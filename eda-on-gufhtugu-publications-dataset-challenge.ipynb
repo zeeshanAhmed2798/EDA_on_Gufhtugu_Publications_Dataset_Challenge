{
 "cells": [
  {
   "cell_type": "markdown",
   "id": "de3c0dd7",
   "metadata": {
    "papermill": {
     "duration": 0.028384,
     "end_time": "2024-07-02T11:59:49.035512",
     "exception": false,
     "start_time": "2024-07-02T11:59:49.007128",
     "status": "completed"
    },
    "tags": []
   },
   "source": [
    "<div style=\"text-align: center;\">\n",
    "    <h2 style=\"color: #007BFF;\">EDA on Gufhtugu Publications Dataset Challenge</h2>\n",
    "</div>\n"
   ]
  },
  {
   "cell_type": "markdown",
   "id": "db725ff0",
   "metadata": {
    "papermill": {
     "duration": 0.026676,
     "end_time": "2024-07-02T11:59:49.090656",
     "exception": false,
     "start_time": "2024-07-02T11:59:49.063980",
     "status": "completed"
    },
    "tags": []
   },
   "source": [
    "<div style=\"text-align: center;\">\n",
    "   <h2 style=\"color: #007BFF;\">My Introduction</h2>\n",
    "</div>\n",
    "\n",
    "👋 Greetings, all! I'm Zeeshan Ahmad, an aspiring data enthusiast with a keen interest in exploring machine learning techniques. I am thrilled to share my analysis and insights from a unique book sales dataset from Pakistan."
   ]
  },
  {
   "cell_type": "markdown",
   "id": "7deb9bed",
   "metadata": {
    "papermill": {
     "duration": 0.027682,
     "end_time": "2024-07-02T11:59:49.144432",
     "exception": false,
     "start_time": "2024-07-02T11:59:49.116750",
     "status": "completed"
    },
    "tags": []
   },
   "source": [
    "<div style=\"text-align: left;\">\n",
    "   <h2 style=\"color: #007BFF;\">Connect with Me</h2>\n",
    "</div>\n",
    "<div style=\"text-align: center; margin-top: 20px; margin-bottom: 20px;\">\n",
    "    <a href=\"https://www.linkedin.com/in/zeeshan--ahmed\" rel=\"noreferrer nofollow\" style=\"margin: 0px 10px;\">\n",
    "        <img src=\"https://img.shields.io/badge/LinkedIn-Profile-blue?style=for-the-badge&logo=linkedin\" alt=\"LinkedIn\">\n",
    "    </a>\n",
    "    <br>\n",
    "    <a href=\"https://www.kaggle.com/zeeshanahmad124586\" rel=\"noreferrer nofollow\" style=\"margin: 0px 10px;\">\n",
    "        <img src=\"https://img.shields.io/badge/Kaggle-Profile-blue?style=for-the-badge&logo=kaggle\" alt=\"Kaggle\">\n",
    "    </a>\n",
    "    <br>\n",
    "    <a href=\"https://github.com/zeeshanAhmed2798\" rel=\"noreferrer nofollow\" style=\"margin: 0px 10px;\">\n",
    "        <img src=\"https://img.shields.io/badge/GitHub-Profile-blue?style=for-the-badge&logo=github\" alt=\"GitHub\">\n",
    "    </a>\n",
    "</div>\n",
    "\n"
   ]
  },
  {
   "cell_type": "markdown",
   "id": "9db2b146",
   "metadata": {
    "papermill": {
     "duration": 0.028474,
     "end_time": "2024-07-02T11:59:49.201215",
     "exception": false,
     "start_time": "2024-07-02T11:59:49.172741",
     "status": "completed"
    },
    "tags": []
   },
   "source": [
    "<div style=\"text-align: left;\">\n",
    "    <h3 style=\"color: #007BFF;\">Data Description</h3>\n",
    "</div>\n",
    "\n",
    "The book sales dataset from Pakistan comprises detailed information on 20,000 online book orders collected from January 2019 to January 2021. This data includes order numbers, order statuses (completed, cancelled, returned), order dates and times, book names, and city addresses. The dataset, provided by Gufhtugu Publications, offers an in-depth look into Pakistan's e-commerce landscape. It will be invaluable for startups and researchers aiming to understand and leverage the country's emerging e-commerce potential.\n"
   ]
  },
  {
   "cell_type": "code",
   "execution_count": null,
   "id": "1f5082f8",
   "metadata": {},
   "outputs": [],
   "source": [
    "import numpy as np # linear algebra\n",
    "import pandas as pd # data processing, CSV file I/O (e.g. pd.read_csv)\n",
    "import seaborn as sns\n",
    "import matplotlib.pyplot as plt"
   ]
  },
  {
   "cell_type": "code",
   "execution_count": 2,
   "id": "4f9c3778",
   "metadata": {
    "execution": {
     "iopub.execute_input": "2024-07-02T11:59:49.257779Z",
     "iopub.status.busy": "2024-07-02T11:59:49.257093Z",
     "iopub.status.idle": "2024-07-02T11:59:49.362294Z",
     "shell.execute_reply": "2024-07-02T11:59:49.360980Z"
    },
    "papermill": {
     "duration": 0.135413,
     "end_time": "2024-07-02T11:59:49.365012",
     "exception": false,
     "start_time": "2024-07-02T11:59:49.229599",
     "status": "completed"
    },
    "tags": []
   },
   "outputs": [],
   "source": [
    "orders = pd.read_csv(\"/kaggle/input/gufhtugu-publications-dataset-challenge/GP Orders - 5.csv\")\n"
   ]
  },
  {
   "cell_type": "code",
   "execution_count": 3,
   "id": "fcf9e31c",
   "metadata": {
    "execution": {
     "iopub.execute_input": "2024-07-02T11:59:49.420186Z",
     "iopub.status.busy": "2024-07-02T11:59:49.419749Z",
     "iopub.status.idle": "2024-07-02T11:59:49.459911Z",
     "shell.execute_reply": "2024-07-02T11:59:49.458602Z"
    },
    "papermill": {
     "duration": 0.070978,
     "end_time": "2024-07-02T11:59:49.462731",
     "exception": false,
     "start_time": "2024-07-02T11:59:49.391753",
     "status": "completed"
    },
    "tags": []
   },
   "outputs": [
    {
     "data": {
      "text/html": [
       "<div>\n",
       "<style scoped>\n",
       "    .dataframe tbody tr th:only-of-type {\n",
       "        vertical-align: middle;\n",
       "    }\n",
       "\n",
       "    .dataframe tbody tr th {\n",
       "        vertical-align: top;\n",
       "    }\n",
       "\n",
       "    .dataframe thead th {\n",
       "        text-align: right;\n",
       "    }\n",
       "</style>\n",
       "<table border=\"1\" class=\"dataframe\">\n",
       "  <thead>\n",
       "    <tr style=\"text-align: right;\">\n",
       "      <th></th>\n",
       "      <th>Order Number</th>\n",
       "      <th>Order Status</th>\n",
       "      <th>Book Name</th>\n",
       "      <th>Order Date &amp; Time</th>\n",
       "      <th>City</th>\n",
       "      <th>Payment Method</th>\n",
       "      <th>Total items</th>\n",
       "      <th>Total weight (grams)</th>\n",
       "    </tr>\n",
       "  </thead>\n",
       "  <tbody>\n",
       "    <tr>\n",
       "      <th>2843</th>\n",
       "      <td>34406</td>\n",
       "      <td>Completed</td>\n",
       "      <td>Molo Masali</td>\n",
       "      <td>5/29/2020 7:14</td>\n",
       "      <td>Punjab, lhr</td>\n",
       "      <td>Cash on delivery</td>\n",
       "      <td>1</td>\n",
       "      <td>200.0</td>\n",
       "    </tr>\n",
       "    <tr>\n",
       "      <th>1041</th>\n",
       "      <td>11326</td>\n",
       "      <td>Completed</td>\n",
       "      <td>R ka Taaruf/Bit Coin Block Chain aur Crypto Cu...</td>\n",
       "      <td>1/18/2020 17:53</td>\n",
       "      <td>peshawar</td>\n",
       "      <td>Cash on delivery</td>\n",
       "      <td>2</td>\n",
       "      <td>200.0</td>\n",
       "    </tr>\n",
       "    <tr>\n",
       "      <th>10207</th>\n",
       "      <td>57318</td>\n",
       "      <td>Completed</td>\n",
       "      <td>Kaggle for Begginers/Hayat e Saeed</td>\n",
       "      <td>10/22/2020 16:17</td>\n",
       "      <td>Islamabad</td>\n",
       "      <td>Cash on delivery</td>\n",
       "      <td>2</td>\n",
       "      <td>200.0</td>\n",
       "    </tr>\n",
       "    <tr>\n",
       "      <th>5861</th>\n",
       "      <td>50306</td>\n",
       "      <td>Completed</td>\n",
       "      <td>LOST ISLAMIC HISTORY</td>\n",
       "      <td>8/8/2020 12:31</td>\n",
       "      <td>Gujranwala</td>\n",
       "      <td>Cash on delivery</td>\n",
       "      <td>1</td>\n",
       "      <td>500.0</td>\n",
       "    </tr>\n",
       "    <tr>\n",
       "      <th>8905</th>\n",
       "      <td>55471</td>\n",
       "      <td>Completed</td>\n",
       "      <td>Product Management</td>\n",
       "      <td>9/21/2020 1:11</td>\n",
       "      <td>Lahore</td>\n",
       "      <td>Cash on delivery</td>\n",
       "      <td>1</td>\n",
       "      <td>500.0</td>\n",
       "    </tr>\n",
       "    <tr>\n",
       "      <th>13224</th>\n",
       "      <td>61846</td>\n",
       "      <td>Completed</td>\n",
       "      <td>(C++)/Python Programming</td>\n",
       "      <td>11/22/2020 10:05</td>\n",
       "      <td>Lahore</td>\n",
       "      <td>Cash on delivery</td>\n",
       "      <td>2</td>\n",
       "      <td>200.0</td>\n",
       "    </tr>\n",
       "    <tr>\n",
       "      <th>15582</th>\n",
       "      <td>65867</td>\n",
       "      <td>Completed</td>\n",
       "      <td>Waqfa e Pareshani</td>\n",
       "      <td>12/22/2020 14:39</td>\n",
       "      <td>Karachi</td>\n",
       "      <td>Cash on delivery</td>\n",
       "      <td>1</td>\n",
       "      <td>200.0</td>\n",
       "    </tr>\n",
       "    <tr>\n",
       "      <th>15484</th>\n",
       "      <td>65630</td>\n",
       "      <td>Completed</td>\n",
       "      <td>انٹرنیٹ سے پیسہ کمائیں</td>\n",
       "      <td>12/21/2020 12:54</td>\n",
       "      <td>D.i.khan</td>\n",
       "      <td>Cash on delivery</td>\n",
       "      <td>1</td>\n",
       "      <td>200.0</td>\n",
       "    </tr>\n",
       "    <tr>\n",
       "      <th>15732</th>\n",
       "      <td>66076</td>\n",
       "      <td>Completed</td>\n",
       "      <td>Python Programming/R ka Taaruf</td>\n",
       "      <td>12/25/2020 12:05</td>\n",
       "      <td>Nowshera</td>\n",
       "      <td>Cash on delivery</td>\n",
       "      <td>2</td>\n",
       "      <td>200.0</td>\n",
       "    </tr>\n",
       "    <tr>\n",
       "      <th>8580</th>\n",
       "      <td>54949</td>\n",
       "      <td>Completed</td>\n",
       "      <td>Python Programming</td>\n",
       "      <td>9/15/2020 14:32</td>\n",
       "      <td>Khanewal</td>\n",
       "      <td>Cash on delivery</td>\n",
       "      <td>1</td>\n",
       "      <td>200.0</td>\n",
       "    </tr>\n",
       "  </tbody>\n",
       "</table>\n",
       "</div>"
      ],
      "text/plain": [
       "       Order Number Order Status  \\\n",
       "2843          34406    Completed   \n",
       "1041          11326    Completed   \n",
       "10207         57318    Completed   \n",
       "5861          50306    Completed   \n",
       "8905          55471    Completed   \n",
       "13224         61846    Completed   \n",
       "15582         65867    Completed   \n",
       "15484         65630    Completed   \n",
       "15732         66076    Completed   \n",
       "8580          54949    Completed   \n",
       "\n",
       "                                               Book Name Order Date & Time  \\\n",
       "2843                                         Molo Masali    5/29/2020 7:14   \n",
       "1041   R ka Taaruf/Bit Coin Block Chain aur Crypto Cu...   1/18/2020 17:53   \n",
       "10207                 Kaggle for Begginers/Hayat e Saeed  10/22/2020 16:17   \n",
       "5861                                LOST ISLAMIC HISTORY    8/8/2020 12:31   \n",
       "8905                                  Product Management    9/21/2020 1:11   \n",
       "13224                           (C++)/Python Programming  11/22/2020 10:05   \n",
       "15582                                  Waqfa e Pareshani  12/22/2020 14:39   \n",
       "15484                             انٹرنیٹ سے پیسہ کمائیں  12/21/2020 12:54   \n",
       "15732                     Python Programming/R ka Taaruf  12/25/2020 12:05   \n",
       "8580                                  Python Programming   9/15/2020 14:32   \n",
       "\n",
       "              City    Payment Method  Total items  Total weight (grams)  \n",
       "2843   Punjab, lhr  Cash on delivery            1                 200.0  \n",
       "1041      peshawar  Cash on delivery            2                 200.0  \n",
       "10207    Islamabad  Cash on delivery            2                 200.0  \n",
       "5861    Gujranwala  Cash on delivery            1                 500.0  \n",
       "8905        Lahore  Cash on delivery            1                 500.0  \n",
       "13224       Lahore  Cash on delivery            2                 200.0  \n",
       "15582      Karachi  Cash on delivery            1                 200.0  \n",
       "15484     D.i.khan  Cash on delivery            1                 200.0  \n",
       "15732     Nowshera  Cash on delivery            2                 200.0  \n",
       "8580      Khanewal  Cash on delivery            1                 200.0  "
      ]
     },
     "execution_count": 3,
     "metadata": {},
     "output_type": "execute_result"
    }
   ],
   "source": [
    "orders.sample(10)"
   ]
  },
  {
   "cell_type": "markdown",
   "id": "95060514",
   "metadata": {
    "papermill": {
     "duration": 0.027188,
     "end_time": "2024-07-02T11:59:49.516474",
     "exception": false,
     "start_time": "2024-07-02T11:59:49.489286",
     "status": "completed"
    },
    "tags": []
   },
   "source": [
    "<div style=\"text-align: left;\">\n",
    "    <h2 style=\"color: #007BFF;\">Analyze issues with data through dynamic & Programetic assessment. </h2>\n",
    "</div>"
   ]
  },
  {
   "cell_type": "code",
   "execution_count": 4,
   "id": "3af8226e",
   "metadata": {
    "execution": {
     "iopub.execute_input": "2024-07-02T11:59:49.571016Z",
     "iopub.status.busy": "2024-07-02T11:59:49.570591Z",
     "iopub.status.idle": "2024-07-02T11:59:49.589107Z",
     "shell.execute_reply": "2024-07-02T11:59:49.587923Z"
    },
    "papermill": {
     "duration": 0.048908,
     "end_time": "2024-07-02T11:59:49.591817",
     "exception": false,
     "start_time": "2024-07-02T11:59:49.542909",
     "status": "completed"
    },
    "tags": []
   },
   "outputs": [
    {
     "data": {
      "text/plain": [
       "Order Status\n",
       "Completed    17948\n",
       "Returned      1142\n",
       "Cancelled      149\n",
       "Name: count, dtype: int64"
      ]
     },
     "execution_count": 4,
     "metadata": {},
     "output_type": "execute_result"
    }
   ],
   "source": [
    "orders['Order Status'].value_counts()"
   ]
  },
  {
   "cell_type": "code",
   "execution_count": 5,
   "id": "395d9f2a",
   "metadata": {
    "execution": {
     "iopub.execute_input": "2024-07-02T11:59:49.647035Z",
     "iopub.status.busy": "2024-07-02T11:59:49.646632Z",
     "iopub.status.idle": "2024-07-02T11:59:49.659106Z",
     "shell.execute_reply": "2024-07-02T11:59:49.657913Z"
    },
    "papermill": {
     "duration": 0.043324,
     "end_time": "2024-07-02T11:59:49.661767",
     "exception": false,
     "start_time": "2024-07-02T11:59:49.618443",
     "status": "completed"
    },
    "tags": []
   },
   "outputs": [
    {
     "data": {
      "text/plain": [
       "Payment Method\n",
       "Cash on delivery          17470\n",
       "EasyPaisa                   697\n",
       "JazzCash                    596\n",
       "BankTransfer                459\n",
       "Cash on Delivery (COD)        7\n",
       "Name: count, dtype: int64"
      ]
     },
     "execution_count": 5,
     "metadata": {},
     "output_type": "execute_result"
    }
   ],
   "source": [
    "orders['Payment Method'].value_counts()"
   ]
  },
  {
   "cell_type": "markdown",
   "id": "04fbabc1",
   "metadata": {
    "papermill": {
     "duration": 0.028089,
     "end_time": "2024-07-02T11:59:49.717881",
     "exception": false,
     "start_time": "2024-07-02T11:59:49.689792",
     "status": "completed"
    },
    "tags": []
   },
   "source": [
    "**Description of all Columns of bookSalesDf**\n",
    "\n",
    "- Order Number: Unique IDs for orders.\n",
    "- Order Status: Status of the order (e.g., Completed, Cancelled, Returned).\n",
    "- Book Name: Names of the books ordered.\n",
    "- Order Date & Time: Date and time when the order was placed.\n",
    "- City: City where the order was delivered.\n",
    "- Payment Method: Method of payment used, including:\n",
    "        - Cash on Delivery (COD): 17,470 orders\n",
    "        - EasyPaisa: 697 orders\n",
    "        - JazzCash: 596 orders\n",
    "        - Bank Transfer: 459 orders\n",
    "- Total Items: Number of items in the order.\n",
    "- Total Weight (grams): Total weight of the order in grams."
   ]
  },
  {
   "cell_type": "code",
   "execution_count": 6,
   "id": "38e4cc40",
   "metadata": {
    "execution": {
     "iopub.execute_input": "2024-07-02T11:59:49.836621Z",
     "iopub.status.busy": "2024-07-02T11:59:49.836198Z",
     "iopub.status.idle": "2024-07-02T11:59:49.843475Z",
     "shell.execute_reply": "2024-07-02T11:59:49.842330Z"
    },
    "papermill": {
     "duration": 0.038885,
     "end_time": "2024-07-02T11:59:49.846463",
     "exception": false,
     "start_time": "2024-07-02T11:59:49.807578",
     "status": "completed"
    },
    "tags": []
   },
   "outputs": [
    {
     "data": {
      "text/plain": [
       "(19239, 8)"
      ]
     },
     "execution_count": 6,
     "metadata": {},
     "output_type": "execute_result"
    }
   ],
   "source": [
    "orders.shape"
   ]
  },
  {
   "cell_type": "code",
   "execution_count": 7,
   "id": "6eb3f7c1",
   "metadata": {
    "execution": {
     "iopub.execute_input": "2024-07-02T11:59:49.904417Z",
     "iopub.status.busy": "2024-07-02T11:59:49.903977Z",
     "iopub.status.idle": "2024-07-02T11:59:49.933930Z",
     "shell.execute_reply": "2024-07-02T11:59:49.932410Z"
    },
    "papermill": {
     "duration": 0.062813,
     "end_time": "2024-07-02T11:59:49.936852",
     "exception": false,
     "start_time": "2024-07-02T11:59:49.874039",
     "status": "completed"
    },
    "tags": []
   },
   "outputs": [
    {
     "name": "stdout",
     "output_type": "stream",
     "text": [
      "<class 'pandas.core.frame.DataFrame'>\n",
      "RangeIndex: 19239 entries, 0 to 19238\n",
      "Data columns (total 8 columns):\n",
      " #   Column                Non-Null Count  Dtype  \n",
      "---  ------                --------------  -----  \n",
      " 0   Order Number          19239 non-null  int64  \n",
      " 1   Order Status          19239 non-null  object \n",
      " 2   Book Name             19237 non-null  object \n",
      " 3   Order Date & Time     19239 non-null  object \n",
      " 4   City                  19238 non-null  object \n",
      " 5   Payment Method        19229 non-null  object \n",
      " 6   Total items           19239 non-null  int64  \n",
      " 7   Total weight (grams)  19239 non-null  float64\n",
      "dtypes: float64(1), int64(2), object(5)\n",
      "memory usage: 1.2+ MB\n"
     ]
    }
   ],
   "source": [
    "orders.info()"
   ]
  },
  {
   "cell_type": "code",
   "execution_count": 8,
   "id": "4673e71d",
   "metadata": {
    "execution": {
     "iopub.execute_input": "2024-07-02T11:59:49.993701Z",
     "iopub.status.busy": "2024-07-02T11:59:49.993302Z",
     "iopub.status.idle": "2024-07-02T11:59:50.013546Z",
     "shell.execute_reply": "2024-07-02T11:59:50.012432Z"
    },
    "papermill": {
     "duration": 0.051629,
     "end_time": "2024-07-02T11:59:50.016153",
     "exception": false,
     "start_time": "2024-07-02T11:59:49.964524",
     "status": "completed"
    },
    "tags": []
   },
   "outputs": [
    {
     "data": {
      "text/plain": [
       "Order Number             0\n",
       "Order Status             0\n",
       "Book Name                2\n",
       "Order Date & Time        0\n",
       "City                     1\n",
       "Payment Method          10\n",
       "Total items              0\n",
       "Total weight (grams)     0\n",
       "dtype: int64"
      ]
     },
     "execution_count": 8,
     "metadata": {},
     "output_type": "execute_result"
    }
   ],
   "source": [
    "# to chechk missing values\n",
    "orders.isna().sum()"
   ]
  },
  {
   "cell_type": "code",
   "execution_count": 9,
   "id": "da5312a6",
   "metadata": {
    "execution": {
     "iopub.execute_input": "2024-07-02T11:59:50.073021Z",
     "iopub.status.busy": "2024-07-02T11:59:50.072486Z",
     "iopub.status.idle": "2024-07-02T11:59:50.097602Z",
     "shell.execute_reply": "2024-07-02T11:59:50.096332Z"
    },
    "papermill": {
     "duration": 0.056954,
     "end_time": "2024-07-02T11:59:50.100545",
     "exception": false,
     "start_time": "2024-07-02T11:59:50.043591",
     "status": "completed"
    },
    "tags": []
   },
   "outputs": [
    {
     "data": {
      "text/html": [
       "<div>\n",
       "<style scoped>\n",
       "    .dataframe tbody tr th:only-of-type {\n",
       "        vertical-align: middle;\n",
       "    }\n",
       "\n",
       "    .dataframe tbody tr th {\n",
       "        vertical-align: top;\n",
       "    }\n",
       "\n",
       "    .dataframe thead th {\n",
       "        text-align: right;\n",
       "    }\n",
       "</style>\n",
       "<table border=\"1\" class=\"dataframe\">\n",
       "  <thead>\n",
       "    <tr style=\"text-align: right;\">\n",
       "      <th></th>\n",
       "      <th>Order Number</th>\n",
       "      <th>Total items</th>\n",
       "      <th>Total weight (grams)</th>\n",
       "    </tr>\n",
       "  </thead>\n",
       "  <tbody>\n",
       "    <tr>\n",
       "      <th>count</th>\n",
       "      <td>19239.000000</td>\n",
       "      <td>19239.000000</td>\n",
       "      <td>19239.000000</td>\n",
       "    </tr>\n",
       "    <tr>\n",
       "      <th>mean</th>\n",
       "      <td>52535.780238</td>\n",
       "      <td>6.051874</td>\n",
       "      <td>363.749675</td>\n",
       "    </tr>\n",
       "    <tr>\n",
       "      <th>std</th>\n",
       "      <td>15835.761148</td>\n",
       "      <td>576.938452</td>\n",
       "      <td>834.097325</td>\n",
       "    </tr>\n",
       "    <tr>\n",
       "      <th>min</th>\n",
       "      <td>307.000000</td>\n",
       "      <td>0.000000</td>\n",
       "      <td>200.000000</td>\n",
       "    </tr>\n",
       "    <tr>\n",
       "      <th>25%</th>\n",
       "      <td>48064.500000</td>\n",
       "      <td>1.000000</td>\n",
       "      <td>200.000000</td>\n",
       "    </tr>\n",
       "    <tr>\n",
       "      <th>50%</th>\n",
       "      <td>56436.000000</td>\n",
       "      <td>1.000000</td>\n",
       "      <td>200.000000</td>\n",
       "    </tr>\n",
       "    <tr>\n",
       "      <th>75%</th>\n",
       "      <td>63779.500000</td>\n",
       "      <td>1.000000</td>\n",
       "      <td>500.000000</td>\n",
       "    </tr>\n",
       "    <tr>\n",
       "      <th>max</th>\n",
       "      <td>71420.000000</td>\n",
       "      <td>80022.000000</td>\n",
       "      <td>55000.000000</td>\n",
       "    </tr>\n",
       "  </tbody>\n",
       "</table>\n",
       "</div>"
      ],
      "text/plain": [
       "       Order Number   Total items  Total weight (grams)\n",
       "count  19239.000000  19239.000000          19239.000000\n",
       "mean   52535.780238      6.051874            363.749675\n",
       "std    15835.761148    576.938452            834.097325\n",
       "min      307.000000      0.000000            200.000000\n",
       "25%    48064.500000      1.000000            200.000000\n",
       "50%    56436.000000      1.000000            200.000000\n",
       "75%    63779.500000      1.000000            500.000000\n",
       "max    71420.000000  80022.000000          55000.000000"
      ]
     },
     "execution_count": 9,
     "metadata": {},
     "output_type": "execute_result"
    }
   ],
   "source": [
    "orders.describe()"
   ]
  },
  {
   "cell_type": "code",
   "execution_count": 10,
   "id": "a4a4e7b5",
   "metadata": {
    "execution": {
     "iopub.execute_input": "2024-07-02T11:59:50.158696Z",
     "iopub.status.busy": "2024-07-02T11:59:50.157974Z",
     "iopub.status.idle": "2024-07-02T11:59:50.508945Z",
     "shell.execute_reply": "2024-07-02T11:59:50.507394Z"
    },
    "papermill": {
     "duration": 0.382958,
     "end_time": "2024-07-02T11:59:50.511600",
     "exception": false,
     "start_time": "2024-07-02T11:59:50.128642",
     "status": "completed"
    },
    "tags": []
   },
   "outputs": [
    {
     "data": {
      "text/plain": [
       "<Axes: >"
      ]
     },
     "execution_count": 10,
     "metadata": {},
     "output_type": "execute_result"
    },
    {
     "data": {
      "image/png": "[encoded data removed]",
      "text/plain": [
       "<Figure size 640x480 with 1 Axes>"
      ]
     },
     "metadata": {},
     "output_type": "display_data"
    }
   ],
   "source": [
    "# chechk for outlier\n",
    "orders['Total items'].plot(kind='box')"
   ]
  },
  {
   "cell_type": "code",
   "execution_count": 11,
   "id": "ccbe412d",
   "metadata": {
    "execution": {
     "iopub.execute_input": "2024-07-02T11:59:50.571462Z",
     "iopub.status.busy": "2024-07-02T11:59:50.571018Z",
     "iopub.status.idle": "2024-07-02T11:59:50.579761Z",
     "shell.execute_reply": "2024-07-02T11:59:50.578616Z"
    },
    "papermill": {
     "duration": 0.042136,
     "end_time": "2024-07-02T11:59:50.582403",
     "exception": false,
     "start_time": "2024-07-02T11:59:50.540267",
     "status": "completed"
    },
    "tags": []
   },
   "outputs": [
    {
     "data": {
      "text/plain": [
       "Order Number              int64\n",
       "Order Status             object\n",
       "Book Name                object\n",
       "Order Date & Time        object\n",
       "City                     object\n",
       "Payment Method           object\n",
       "Total items               int64\n",
       "Total weight (grams)    float64\n",
       "dtype: object"
      ]
     },
     "execution_count": 11,
     "metadata": {},
     "output_type": "execute_result"
    }
   ],
   "source": [
    "orders.dtypes"
   ]
  },
  {
   "cell_type": "code",
   "execution_count": 12,
   "id": "434c11b3",
   "metadata": {
    "execution": {
     "iopub.execute_input": "2024-07-02T11:59:50.642531Z",
     "iopub.status.busy": "2024-07-02T11:59:50.642103Z",
     "iopub.status.idle": "2024-07-02T11:59:50.654210Z",
     "shell.execute_reply": "2024-07-02T11:59:50.653022Z"
    },
    "papermill": {
     "duration": 0.045483,
     "end_time": "2024-07-02T11:59:50.656667",
     "exception": false,
     "start_time": "2024-07-02T11:59:50.611184",
     "status": "completed"
    },
    "tags": []
   },
   "outputs": [
    {
     "data": {
      "text/plain": [
       "Order Status\n",
       "Completed    17948\n",
       "Returned      1142\n",
       "Cancelled      149\n",
       "Name: count, dtype: int64"
      ]
     },
     "execution_count": 12,
     "metadata": {},
     "output_type": "execute_result"
    }
   ],
   "source": [
    "orders['Order Status'].value_counts()"
   ]
  },
  {
   "cell_type": "code",
   "execution_count": 13,
   "id": "e4664b4e",
   "metadata": {
    "execution": {
     "iopub.execute_input": "2024-07-02T11:59:50.716391Z",
     "iopub.status.busy": "2024-07-02T11:59:50.715517Z",
     "iopub.status.idle": "2024-07-02T11:59:50.727736Z",
     "shell.execute_reply": "2024-07-02T11:59:50.726520Z"
    },
    "papermill": {
     "duration": 0.044807,
     "end_time": "2024-07-02T11:59:50.730259",
     "exception": false,
     "start_time": "2024-07-02T11:59:50.685452",
     "status": "completed"
    },
    "tags": []
   },
   "outputs": [
    {
     "data": {
      "text/plain": [
       "Payment Method\n",
       "Cash on delivery          17470\n",
       "EasyPaisa                   697\n",
       "JazzCash                    596\n",
       "BankTransfer                459\n",
       "Cash on Delivery (COD)        7\n",
       "Name: count, dtype: int64"
      ]
     },
     "execution_count": 13,
     "metadata": {},
     "output_type": "execute_result"
    }
   ],
   "source": [
    "orders['Payment Method'].value_counts()"
   ]
  },
  {
   "cell_type": "code",
   "execution_count": 14,
   "id": "fd212fbc",
   "metadata": {
    "execution": {
     "iopub.execute_input": "2024-07-02T11:59:50.789614Z",
     "iopub.status.busy": "2024-07-02T11:59:50.789210Z",
     "iopub.status.idle": "2024-07-02T11:59:50.798351Z",
     "shell.execute_reply": "2024-07-02T11:59:50.797028Z"
    },
    "papermill": {
     "duration": 0.041865,
     "end_time": "2024-07-02T11:59:50.801054",
     "exception": false,
     "start_time": "2024-07-02T11:59:50.759189",
     "status": "completed"
    },
    "tags": []
   },
   "outputs": [
    {
     "data": {
      "text/plain": [
       "0"
      ]
     },
     "execution_count": 14,
     "metadata": {},
     "output_type": "execute_result"
    }
   ],
   "source": [
    "orders['Order Number'].duplicated().sum()"
   ]
  },
  {
   "cell_type": "code",
   "execution_count": 15,
   "id": "7695e197",
   "metadata": {
    "execution": {
     "iopub.execute_input": "2024-07-02T11:59:50.861170Z",
     "iopub.status.busy": "2024-07-02T11:59:50.860677Z",
     "iopub.status.idle": "2024-07-02T11:59:50.876421Z",
     "shell.execute_reply": "2024-07-02T11:59:50.875230Z"
    },
    "papermill": {
     "duration": 0.048893,
     "end_time": "2024-07-02T11:59:50.879292",
     "exception": false,
     "start_time": "2024-07-02T11:59:50.830399",
     "status": "completed"
    },
    "tags": []
   },
   "outputs": [
    {
     "data": {
      "text/plain": [
       "City\n",
       "Karachi                                                                       2332\n",
       "Lahore                                                                        1993\n",
       "Islamabad                                                                      859\n",
       "Rawalpindi                                                                     645\n",
       "Faisalabad                                                                     478\n",
       "                                                                              ... \n",
       "Distt.Rahim Yar Khan                                                             1\n",
       "MAJID IQBAL SATTI PLOT # 150, SECTOR # 23 KORANGI INDUATRIAL AREA KARACHI.       1\n",
       "Gulberg 3 Lahore                                                                 1\n",
       "Sadat Pur Rehlein P /O Retra                                                     1\n",
       "Mailsi, district Vehari                                                          1\n",
       "Name: count, Length: 4163, dtype: int64"
      ]
     },
     "execution_count": 15,
     "metadata": {},
     "output_type": "execute_result"
    }
   ],
   "source": [
    "orders['City'].value_counts()"
   ]
  },
  {
   "cell_type": "markdown",
   "id": "b3e5e021",
   "metadata": {
    "papermill": {
     "duration": 0.029929,
     "end_time": "2024-07-02T11:59:50.940267",
     "exception": false,
     "start_time": "2024-07-02T11:59:50.910338",
     "status": "completed"
    },
    "tags": []
   },
   "source": [
    "I just saw data on excel and I notice issue with City column that Sadiqbad also written as Sadiq abad Inconcistency."
   ]
  },
  {
   "cell_type": "code",
   "execution_count": 16,
   "id": "a3ead1dc",
   "metadata": {
    "execution": {
     "iopub.execute_input": "2024-07-02T11:59:51.001761Z",
     "iopub.status.busy": "2024-07-02T11:59:51.001335Z",
     "iopub.status.idle": "2024-07-02T11:59:51.036181Z",
     "shell.execute_reply": "2024-07-02T11:59:51.034933Z"
    },
    "papermill": {
     "duration": 0.068688,
     "end_time": "2024-07-02T11:59:51.039307",
     "exception": false,
     "start_time": "2024-07-02T11:59:50.970619",
     "status": "completed"
    },
    "tags": []
   },
   "outputs": [
    {
     "data": {
      "text/html": [
       "<div>\n",
       "<style scoped>\n",
       "    .dataframe tbody tr th:only-of-type {\n",
       "        vertical-align: middle;\n",
       "    }\n",
       "\n",
       "    .dataframe tbody tr th {\n",
       "        vertical-align: top;\n",
       "    }\n",
       "\n",
       "    .dataframe thead th {\n",
       "        text-align: right;\n",
       "    }\n",
       "</style>\n",
       "<table border=\"1\" class=\"dataframe\">\n",
       "  <thead>\n",
       "    <tr style=\"text-align: right;\">\n",
       "      <th></th>\n",
       "      <th>Order Number</th>\n",
       "      <th>Order Status</th>\n",
       "      <th>Book Name</th>\n",
       "      <th>Order Date &amp; Time</th>\n",
       "      <th>City</th>\n",
       "      <th>Payment Method</th>\n",
       "      <th>Total items</th>\n",
       "      <th>Total weight (grams)</th>\n",
       "    </tr>\n",
       "  </thead>\n",
       "  <tbody>\n",
       "    <tr>\n",
       "      <th>1269</th>\n",
       "      <td>21673</td>\n",
       "      <td>Completed</td>\n",
       "      <td>(C++)</td>\n",
       "      <td>3/10/2020 17:46</td>\n",
       "      <td>Sadiq Abad</td>\n",
       "      <td>Cash on delivery</td>\n",
       "      <td>1</td>\n",
       "      <td>200.0</td>\n",
       "    </tr>\n",
       "    <tr>\n",
       "      <th>3520</th>\n",
       "      <td>41189</td>\n",
       "      <td>Completed</td>\n",
       "      <td>Artificial Intelligence/R ka Taaruf/Data Scien...</td>\n",
       "      <td>6/13/2020 22:54</td>\n",
       "      <td>Sadiq abad</td>\n",
       "      <td>Cash on delivery</td>\n",
       "      <td>5</td>\n",
       "      <td>1000.0</td>\n",
       "    </tr>\n",
       "    <tr>\n",
       "      <th>3594</th>\n",
       "      <td>41451</td>\n",
       "      <td>Completed</td>\n",
       "      <td>Artificial Intelligence</td>\n",
       "      <td>6/14/2020 9:28</td>\n",
       "      <td>Sadiq Abad</td>\n",
       "      <td>Cash on delivery</td>\n",
       "      <td>1</td>\n",
       "      <td>400.0</td>\n",
       "    </tr>\n",
       "    <tr>\n",
       "      <th>3791</th>\n",
       "      <td>43015</td>\n",
       "      <td>Completed</td>\n",
       "      <td>Artificial Intelligence</td>\n",
       "      <td>6/16/2020 18:27</td>\n",
       "      <td>Sadiq abad</td>\n",
       "      <td>Cash on delivery</td>\n",
       "      <td>1</td>\n",
       "      <td>400.0</td>\n",
       "    </tr>\n",
       "    <tr>\n",
       "      <th>4431</th>\n",
       "      <td>47183</td>\n",
       "      <td>Completed</td>\n",
       "      <td>بلاک چین اور کرپٹو کرنسی</td>\n",
       "      <td>7/12/2020 18:04</td>\n",
       "      <td>Sadiq abad</td>\n",
       "      <td>Cash on delivery</td>\n",
       "      <td>1</td>\n",
       "      <td>500.0</td>\n",
       "    </tr>\n",
       "    <tr>\n",
       "      <th>5879</th>\n",
       "      <td>50351</td>\n",
       "      <td>Completed</td>\n",
       "      <td>Gosha e Tanhai</td>\n",
       "      <td>8/8/2020 15:53</td>\n",
       "      <td>Sadiq Abad</td>\n",
       "      <td>Cash on delivery</td>\n",
       "      <td>1</td>\n",
       "      <td>200.0</td>\n",
       "    </tr>\n",
       "    <tr>\n",
       "      <th>8764</th>\n",
       "      <td>55208</td>\n",
       "      <td>Completed</td>\n",
       "      <td>Artificial Intelligence</td>\n",
       "      <td>9/18/2020 20:28</td>\n",
       "      <td>Sadiq Abad</td>\n",
       "      <td>Cash on delivery</td>\n",
       "      <td>1</td>\n",
       "      <td>400.0</td>\n",
       "    </tr>\n",
       "    <tr>\n",
       "      <th>9341</th>\n",
       "      <td>56056</td>\n",
       "      <td>Completed</td>\n",
       "      <td>Artificial Intelligence</td>\n",
       "      <td>9/30/2020 0:13</td>\n",
       "      <td>Sadiq Abad</td>\n",
       "      <td>Cash on delivery</td>\n",
       "      <td>1</td>\n",
       "      <td>400.0</td>\n",
       "    </tr>\n",
       "    <tr>\n",
       "      <th>10937</th>\n",
       "      <td>58286</td>\n",
       "      <td>Completed</td>\n",
       "      <td>انٹرنیٹ سے پیسہ کمائیں</td>\n",
       "      <td>10/28/2020 0:19</td>\n",
       "      <td>Sadiq abad</td>\n",
       "      <td>Cash on delivery</td>\n",
       "      <td>1</td>\n",
       "      <td>200.0</td>\n",
       "    </tr>\n",
       "    <tr>\n",
       "      <th>11295</th>\n",
       "      <td>58799</td>\n",
       "      <td>Returned</td>\n",
       "      <td>انٹرنیٹ سے پیسہ کمائیں</td>\n",
       "      <td>10/30/2020 22:19</td>\n",
       "      <td>Sadiq abad</td>\n",
       "      <td>JazzCash</td>\n",
       "      <td>1</td>\n",
       "      <td>200.0</td>\n",
       "    </tr>\n",
       "    <tr>\n",
       "      <th>11726</th>\n",
       "      <td>59449</td>\n",
       "      <td>Completed</td>\n",
       "      <td>Artificial Intelligence/انٹرنیٹ سے پیسہ کمائیں...</td>\n",
       "      <td>11/3/2020 18:14</td>\n",
       "      <td>Sadiq Abad</td>\n",
       "      <td>Cash on delivery</td>\n",
       "      <td>4</td>\n",
       "      <td>400.0</td>\n",
       "    </tr>\n",
       "    <tr>\n",
       "      <th>11787</th>\n",
       "      <td>59540</td>\n",
       "      <td>Completed</td>\n",
       "      <td>انٹرنیٹ سے پیسہ کمائیں/Product Management</td>\n",
       "      <td>11/5/2020 11:31</td>\n",
       "      <td>Sadiq abad</td>\n",
       "      <td>Cash on delivery</td>\n",
       "      <td>2</td>\n",
       "      <td>500.0</td>\n",
       "    </tr>\n",
       "    <tr>\n",
       "      <th>12760</th>\n",
       "      <td>61159</td>\n",
       "      <td>Returned</td>\n",
       "      <td>انٹرنیٹ سے پیسہ کمائیں</td>\n",
       "      <td>11/20/2020 16:44</td>\n",
       "      <td>Sadiq Abad SadiqAbad</td>\n",
       "      <td>JazzCash</td>\n",
       "      <td>2</td>\n",
       "      <td>200.0</td>\n",
       "    </tr>\n",
       "    <tr>\n",
       "      <th>12763</th>\n",
       "      <td>61163</td>\n",
       "      <td>Completed</td>\n",
       "      <td>Blockchain, Cryptocurrency And Bitcoin</td>\n",
       "      <td>11/20/2020 17:11</td>\n",
       "      <td>Sadiq Abad</td>\n",
       "      <td>Cash on delivery</td>\n",
       "      <td>1</td>\n",
       "      <td>500.0</td>\n",
       "    </tr>\n",
       "    <tr>\n",
       "      <th>13284</th>\n",
       "      <td>61926</td>\n",
       "      <td>Returned</td>\n",
       "      <td>انٹرنیٹ سے پیسہ کمائیں؟- مستحقین زکواة</td>\n",
       "      <td>11/22/2020 14:57</td>\n",
       "      <td>Sadiq abad</td>\n",
       "      <td>JazzCash</td>\n",
       "      <td>3</td>\n",
       "      <td>200.0</td>\n",
       "    </tr>\n",
       "    <tr>\n",
       "      <th>14158</th>\n",
       "      <td>63246</td>\n",
       "      <td>Completed</td>\n",
       "      <td>انٹرنیٹ سے پیسہ کمائیں</td>\n",
       "      <td>11/30/2020 21:46</td>\n",
       "      <td>Sadiq abad distr rahim yar khan</td>\n",
       "      <td>Cash on delivery</td>\n",
       "      <td>1</td>\n",
       "      <td>200.0</td>\n",
       "    </tr>\n",
       "    <tr>\n",
       "      <th>17467</th>\n",
       "      <td>68578</td>\n",
       "      <td>Completed</td>\n",
       "      <td>انٹرنیٹ سے پیسہ کمائیں/Blockchain, Cryptocurre...</td>\n",
       "      <td>1/5/2021 12:09</td>\n",
       "      <td>Sadiq Abad</td>\n",
       "      <td>JazzCash</td>\n",
       "      <td>2</td>\n",
       "      <td>500.0</td>\n",
       "    </tr>\n",
       "    <tr>\n",
       "      <th>17645</th>\n",
       "      <td>68828</td>\n",
       "      <td>Returned</td>\n",
       "      <td>Blockchain, Cryptocurrency And Bitcoin/R ka Ta...</td>\n",
       "      <td>1/7/2021 11:15</td>\n",
       "      <td>Sadiq abad</td>\n",
       "      <td>BankTransfer</td>\n",
       "      <td>5</td>\n",
       "      <td>500.0</td>\n",
       "    </tr>\n",
       "    <tr>\n",
       "      <th>17688</th>\n",
       "      <td>68887</td>\n",
       "      <td>Returned</td>\n",
       "      <td>Blockchain, Cryptocurrency And Bitcoin/ڈیٹا سائنس</td>\n",
       "      <td>1/7/2021 18:09</td>\n",
       "      <td>Sadiq abad</td>\n",
       "      <td>EasyPaisa</td>\n",
       "      <td>2</td>\n",
       "      <td>500.0</td>\n",
       "    </tr>\n",
       "    <tr>\n",
       "      <th>17693</th>\n",
       "      <td>68892</td>\n",
       "      <td>Completed</td>\n",
       "      <td>Blockchain, Cryptocurrency And Bitcoin/ڈیٹا سا...</td>\n",
       "      <td>1/7/2021 19:03</td>\n",
       "      <td>Sadiq abad</td>\n",
       "      <td>EasyPaisa</td>\n",
       "      <td>3</td>\n",
       "      <td>500.0</td>\n",
       "    </tr>\n",
       "    <tr>\n",
       "      <th>18012</th>\n",
       "      <td>69322</td>\n",
       "      <td>Completed</td>\n",
       "      <td>Lucky Draw - Free Book</td>\n",
       "      <td>1/9/2021 15:49</td>\n",
       "      <td>Sadiq Abad</td>\n",
       "      <td>Cash on delivery</td>\n",
       "      <td>1</td>\n",
       "      <td>200.0</td>\n",
       "    </tr>\n",
       "    <tr>\n",
       "      <th>19014</th>\n",
       "      <td>70706</td>\n",
       "      <td>Completed</td>\n",
       "      <td>Column Nigari Kese Sekhain</td>\n",
       "      <td>1/16/2021 6:46</td>\n",
       "      <td>Sadiq abad District Rahim yar khan</td>\n",
       "      <td>Cash on delivery</td>\n",
       "      <td>1</td>\n",
       "      <td>200.0</td>\n",
       "    </tr>\n",
       "  </tbody>\n",
       "</table>\n",
       "</div>"
      ],
      "text/plain": [
       "       Order Number Order Status  \\\n",
       "1269          21673    Completed   \n",
       "3520          41189    Completed   \n",
       "3594          41451    Completed   \n",
       "3791          43015    Completed   \n",
       "4431          47183    Completed   \n",
       "5879          50351    Completed   \n",
       "8764          55208    Completed   \n",
       "9341          56056    Completed   \n",
       "10937         58286    Completed   \n",
       "11295         58799     Returned   \n",
       "11726         59449    Completed   \n",
       "11787         59540    Completed   \n",
       "12760         61159     Returned   \n",
       "12763         61163    Completed   \n",
       "13284         61926     Returned   \n",
       "14158         63246    Completed   \n",
       "17467         68578    Completed   \n",
       "17645         68828     Returned   \n",
       "17688         68887     Returned   \n",
       "17693         68892    Completed   \n",
       "18012         69322    Completed   \n",
       "19014         70706    Completed   \n",
       "\n",
       "                                               Book Name Order Date & Time  \\\n",
       "1269                                               (C++)   3/10/2020 17:46   \n",
       "3520   Artificial Intelligence/R ka Taaruf/Data Scien...   6/13/2020 22:54   \n",
       "3594                             Artificial Intelligence    6/14/2020 9:28   \n",
       "3791                             Artificial Intelligence   6/16/2020 18:27   \n",
       "4431                            بلاک چین اور کرپٹو کرنسی   7/12/2020 18:04   \n",
       "5879                                      Gosha e Tanhai    8/8/2020 15:53   \n",
       "8764                             Artificial Intelligence   9/18/2020 20:28   \n",
       "9341                             Artificial Intelligence    9/30/2020 0:13   \n",
       "10937                             انٹرنیٹ سے پیسہ کمائیں   10/28/2020 0:19   \n",
       "11295                             انٹرنیٹ سے پیسہ کمائیں  10/30/2020 22:19   \n",
       "11726  Artificial Intelligence/انٹرنیٹ سے پیسہ کمائیں...   11/3/2020 18:14   \n",
       "11787          انٹرنیٹ سے پیسہ کمائیں/Product Management   11/5/2020 11:31   \n",
       "12760                             انٹرنیٹ سے پیسہ کمائیں  11/20/2020 16:44   \n",
       "12763             Blockchain, Cryptocurrency And Bitcoin  11/20/2020 17:11   \n",
       "13284             انٹرنیٹ سے پیسہ کمائیں؟- مستحقین زکواة  11/22/2020 14:57   \n",
       "14158                             انٹرنیٹ سے پیسہ کمائیں  11/30/2020 21:46   \n",
       "17467  انٹرنیٹ سے پیسہ کمائیں/Blockchain, Cryptocurre...    1/5/2021 12:09   \n",
       "17645  Blockchain, Cryptocurrency And Bitcoin/R ka Ta...    1/7/2021 11:15   \n",
       "17688  Blockchain, Cryptocurrency And Bitcoin/ڈیٹا سائنس    1/7/2021 18:09   \n",
       "17693  Blockchain, Cryptocurrency And Bitcoin/ڈیٹا سا...    1/7/2021 19:03   \n",
       "18012                             Lucky Draw - Free Book    1/9/2021 15:49   \n",
       "19014                         Column Nigari Kese Sekhain    1/16/2021 6:46   \n",
       "\n",
       "                                     City    Payment Method  Total items  \\\n",
       "1269                           Sadiq Abad  Cash on delivery            1   \n",
       "3520                           Sadiq abad  Cash on delivery            5   \n",
       "3594                           Sadiq Abad  Cash on delivery            1   \n",
       "3791                           Sadiq abad  Cash on delivery            1   \n",
       "4431                           Sadiq abad  Cash on delivery            1   \n",
       "5879                           Sadiq Abad  Cash on delivery            1   \n",
       "8764                           Sadiq Abad  Cash on delivery            1   \n",
       "9341                           Sadiq Abad  Cash on delivery            1   \n",
       "10937                          Sadiq abad  Cash on delivery            1   \n",
       "11295                          Sadiq abad          JazzCash            1   \n",
       "11726                          Sadiq Abad  Cash on delivery            4   \n",
       "11787                          Sadiq abad  Cash on delivery            2   \n",
       "12760                Sadiq Abad SadiqAbad          JazzCash            2   \n",
       "12763                          Sadiq Abad  Cash on delivery            1   \n",
       "13284                          Sadiq abad          JazzCash            3   \n",
       "14158     Sadiq abad distr rahim yar khan  Cash on delivery            1   \n",
       "17467                          Sadiq Abad          JazzCash            2   \n",
       "17645                          Sadiq abad      BankTransfer            5   \n",
       "17688                          Sadiq abad         EasyPaisa            2   \n",
       "17693                          Sadiq abad         EasyPaisa            3   \n",
       "18012                          Sadiq Abad  Cash on delivery            1   \n",
       "19014  Sadiq abad District Rahim yar khan  Cash on delivery            1   \n",
       "\n",
       "       Total weight (grams)  \n",
       "1269                  200.0  \n",
       "3520                 1000.0  \n",
       "3594                  400.0  \n",
       "3791                  400.0  \n",
       "4431                  500.0  \n",
       "5879                  200.0  \n",
       "8764                  400.0  \n",
       "9341                  400.0  \n",
       "10937                 200.0  \n",
       "11295                 200.0  \n",
       "11726                 400.0  \n",
       "11787                 500.0  \n",
       "12760                 200.0  \n",
       "12763                 500.0  \n",
       "13284                 200.0  \n",
       "14158                 200.0  \n",
       "17467                 500.0  \n",
       "17645                 500.0  \n",
       "17688                 500.0  \n",
       "17693                 500.0  \n",
       "18012                 200.0  \n",
       "19014                 200.0  "
      ]
     },
     "execution_count": 16,
     "metadata": {},
     "output_type": "execute_result"
    }
   ],
   "source": [
    "orders[orders['City'].str.startswith('Sadiq ',na=False)]"
   ]
  },
  {
   "cell_type": "code",
   "execution_count": 17,
   "id": "1e4d82b3",
   "metadata": {
    "execution": {
     "iopub.execute_input": "2024-07-02T11:59:51.103388Z",
     "iopub.status.busy": "2024-07-02T11:59:51.102978Z",
     "iopub.status.idle": "2024-07-02T11:59:51.135872Z",
     "shell.execute_reply": "2024-07-02T11:59:51.134567Z"
    },
    "papermill": {
     "duration": 0.067958,
     "end_time": "2024-07-02T11:59:51.138990",
     "exception": false,
     "start_time": "2024-07-02T11:59:51.071032",
     "status": "completed"
    },
    "tags": []
   },
   "outputs": [
    {
     "data": {
      "text/html": [
       "<div>\n",
       "<style scoped>\n",
       "    .dataframe tbody tr th:only-of-type {\n",
       "        vertical-align: middle;\n",
       "    }\n",
       "\n",
       "    .dataframe tbody tr th {\n",
       "        vertical-align: top;\n",
       "    }\n",
       "\n",
       "    .dataframe thead th {\n",
       "        text-align: right;\n",
       "    }\n",
       "</style>\n",
       "<table border=\"1\" class=\"dataframe\">\n",
       "  <thead>\n",
       "    <tr style=\"text-align: right;\">\n",
       "      <th></th>\n",
       "      <th>Order Number</th>\n",
       "      <th>Order Status</th>\n",
       "      <th>Book Name</th>\n",
       "      <th>Order Date &amp; Time</th>\n",
       "      <th>City</th>\n",
       "      <th>Payment Method</th>\n",
       "      <th>Total items</th>\n",
       "      <th>Total weight (grams)</th>\n",
       "    </tr>\n",
       "  </thead>\n",
       "  <tbody>\n",
       "    <tr>\n",
       "      <th>104</th>\n",
       "      <td>5120</td>\n",
       "      <td>Completed</td>\n",
       "      <td>Kaggle for Begginers/ڈیٹا سائنس ۔ ایک تعارف</td>\n",
       "      <td>12/20/2019 20:39</td>\n",
       "      <td>karachi</td>\n",
       "      <td>Cash on delivery</td>\n",
       "      <td>2</td>\n",
       "      <td>600.0</td>\n",
       "    </tr>\n",
       "    <tr>\n",
       "      <th>229</th>\n",
       "      <td>5403</td>\n",
       "      <td>Completed</td>\n",
       "      <td>ڈیٹا سائنس ۔ ایک تعارف</td>\n",
       "      <td>12/21/2019 11:08</td>\n",
       "      <td>karachi</td>\n",
       "      <td>Cash on delivery</td>\n",
       "      <td>1</td>\n",
       "      <td>600.0</td>\n",
       "    </tr>\n",
       "    <tr>\n",
       "      <th>322</th>\n",
       "      <td>5644</td>\n",
       "      <td>Completed</td>\n",
       "      <td>ڈیٹا سائنس ۔ ایک تعارف</td>\n",
       "      <td>12/22/2019 11:59</td>\n",
       "      <td>karachi</td>\n",
       "      <td>Cash on delivery</td>\n",
       "      <td>1</td>\n",
       "      <td>600.0</td>\n",
       "    </tr>\n",
       "    <tr>\n",
       "      <th>404</th>\n",
       "      <td>6916</td>\n",
       "      <td>Completed</td>\n",
       "      <td>ڈیٹا سائنس ۔ ایک تعارف/Kaggle for Begginers</td>\n",
       "      <td>12/25/2019 15:01</td>\n",
       "      <td>karachi</td>\n",
       "      <td>Cash on delivery</td>\n",
       "      <td>2</td>\n",
       "      <td>600.0</td>\n",
       "    </tr>\n",
       "    <tr>\n",
       "      <th>464</th>\n",
       "      <td>8201</td>\n",
       "      <td>Completed</td>\n",
       "      <td>ڈیٹا سائنس ۔ ایک تعارف</td>\n",
       "      <td>1/1/2020 20:45</td>\n",
       "      <td>karachi</td>\n",
       "      <td>Cash on delivery</td>\n",
       "      <td>1</td>\n",
       "      <td>600.0</td>\n",
       "    </tr>\n",
       "    <tr>\n",
       "      <th>...</th>\n",
       "      <td>...</td>\n",
       "      <td>...</td>\n",
       "      <td>...</td>\n",
       "      <td>...</td>\n",
       "      <td>...</td>\n",
       "      <td>...</td>\n",
       "      <td>...</td>\n",
       "      <td>...</td>\n",
       "    </tr>\n",
       "    <tr>\n",
       "      <th>18975</th>\n",
       "      <td>70633</td>\n",
       "      <td>Returned</td>\n",
       "      <td>Dasht e Wafa</td>\n",
       "      <td>1/15/2021 18:03</td>\n",
       "      <td>karachi</td>\n",
       "      <td>JazzCash</td>\n",
       "      <td>1</td>\n",
       "      <td>200.0</td>\n",
       "    </tr>\n",
       "    <tr>\n",
       "      <th>18976</th>\n",
       "      <td>70634</td>\n",
       "      <td>Returned</td>\n",
       "      <td>Dasht e Wafa</td>\n",
       "      <td>1/15/2021 18:03</td>\n",
       "      <td>karachi</td>\n",
       "      <td>JazzCash</td>\n",
       "      <td>1</td>\n",
       "      <td>200.0</td>\n",
       "    </tr>\n",
       "    <tr>\n",
       "      <th>19044</th>\n",
       "      <td>70753</td>\n",
       "      <td>Completed</td>\n",
       "      <td>Column Nigari Kese Sekhain</td>\n",
       "      <td>1/16/2021 15:02</td>\n",
       "      <td>kandiaro</td>\n",
       "      <td>Cash on delivery</td>\n",
       "      <td>1</td>\n",
       "      <td>200.0</td>\n",
       "    </tr>\n",
       "    <tr>\n",
       "      <th>19184</th>\n",
       "      <td>70980</td>\n",
       "      <td>Completed</td>\n",
       "      <td>Artificial Intelligence/مشین لرننگ/Justju ka s...</td>\n",
       "      <td>1/20/2021 18:17</td>\n",
       "      <td>karachi</td>\n",
       "      <td>Cash on delivery</td>\n",
       "      <td>3</td>\n",
       "      <td>500.0</td>\n",
       "    </tr>\n",
       "    <tr>\n",
       "      <th>19215</th>\n",
       "      <td>71149</td>\n",
       "      <td>Completed</td>\n",
       "      <td>Python Programming</td>\n",
       "      <td>1/23/2021 17:03</td>\n",
       "      <td>karachi</td>\n",
       "      <td>Cash on delivery</td>\n",
       "      <td>1</td>\n",
       "      <td>500.0</td>\n",
       "    </tr>\n",
       "  </tbody>\n",
       "</table>\n",
       "<p>293 rows × 8 columns</p>\n",
       "</div>"
      ],
      "text/plain": [
       "       Order Number Order Status  \\\n",
       "104            5120    Completed   \n",
       "229            5403    Completed   \n",
       "322            5644    Completed   \n",
       "404            6916    Completed   \n",
       "464            8201    Completed   \n",
       "...             ...          ...   \n",
       "18975         70633     Returned   \n",
       "18976         70634     Returned   \n",
       "19044         70753    Completed   \n",
       "19184         70980    Completed   \n",
       "19215         71149    Completed   \n",
       "\n",
       "                                               Book Name Order Date & Time  \\\n",
       "104          Kaggle for Begginers/ڈیٹا سائنس ۔ ایک تعارف  12/20/2019 20:39   \n",
       "229                               ڈیٹا سائنس ۔ ایک تعارف  12/21/2019 11:08   \n",
       "322                               ڈیٹا سائنس ۔ ایک تعارف  12/22/2019 11:59   \n",
       "404          ڈیٹا سائنس ۔ ایک تعارف/Kaggle for Begginers  12/25/2019 15:01   \n",
       "464                               ڈیٹا سائنس ۔ ایک تعارف    1/1/2020 20:45   \n",
       "...                                                  ...               ...   \n",
       "18975                                       Dasht e Wafa   1/15/2021 18:03   \n",
       "18976                                       Dasht e Wafa   1/15/2021 18:03   \n",
       "19044                         Column Nigari Kese Sekhain   1/16/2021 15:02   \n",
       "19184  Artificial Intelligence/مشین لرننگ/Justju ka s...   1/20/2021 18:17   \n",
       "19215                                 Python Programming   1/23/2021 17:03   \n",
       "\n",
       "           City    Payment Method  Total items  Total weight (grams)  \n",
       "104     karachi  Cash on delivery            2                 600.0  \n",
       "229     karachi  Cash on delivery            1                 600.0  \n",
       "322     karachi  Cash on delivery            1                 600.0  \n",
       "404     karachi  Cash on delivery            2                 600.0  \n",
       "464     karachi  Cash on delivery            1                 600.0  \n",
       "...         ...               ...          ...                   ...  \n",
       "18975   karachi          JazzCash            1                 200.0  \n",
       "18976   karachi          JazzCash            1                 200.0  \n",
       "19044  kandiaro  Cash on delivery            1                 200.0  \n",
       "19184   karachi  Cash on delivery            3                 500.0  \n",
       "19215   karachi  Cash on delivery            1                 500.0  \n",
       "\n",
       "[293 rows x 8 columns]"
      ]
     },
     "execution_count": 17,
     "metadata": {},
     "output_type": "execute_result"
    }
   ],
   "source": [
    "orders[orders['City'].str.startswith('ka',na=False)] # with small K"
   ]
  },
  {
   "cell_type": "code",
   "execution_count": 18,
   "id": "6891c7d4",
   "metadata": {
    "execution": {
     "iopub.execute_input": "2024-07-02T11:59:51.208992Z",
     "iopub.status.busy": "2024-07-02T11:59:51.208541Z",
     "iopub.status.idle": "2024-07-02T11:59:51.237910Z",
     "shell.execute_reply": "2024-07-02T11:59:51.236365Z"
    },
    "papermill": {
     "duration": 0.064874,
     "end_time": "2024-07-02T11:59:51.240686",
     "exception": false,
     "start_time": "2024-07-02T11:59:51.175812",
     "status": "completed"
    },
    "tags": []
   },
   "outputs": [
    {
     "data": {
      "text/html": [
       "<div>\n",
       "<style scoped>\n",
       "    .dataframe tbody tr th:only-of-type {\n",
       "        vertical-align: middle;\n",
       "    }\n",
       "\n",
       "    .dataframe tbody tr th {\n",
       "        vertical-align: top;\n",
       "    }\n",
       "\n",
       "    .dataframe thead th {\n",
       "        text-align: right;\n",
       "    }\n",
       "</style>\n",
       "<table border=\"1\" class=\"dataframe\">\n",
       "  <thead>\n",
       "    <tr style=\"text-align: right;\">\n",
       "      <th></th>\n",
       "      <th>Order Number</th>\n",
       "      <th>Order Status</th>\n",
       "      <th>Book Name</th>\n",
       "      <th>Order Date &amp; Time</th>\n",
       "      <th>City</th>\n",
       "      <th>Payment Method</th>\n",
       "      <th>Total items</th>\n",
       "      <th>Total weight (grams)</th>\n",
       "    </tr>\n",
       "  </thead>\n",
       "  <tbody>\n",
       "    <tr>\n",
       "      <th>4</th>\n",
       "      <td>311</td>\n",
       "      <td>Completed</td>\n",
       "      <td>Bit Coin Block Chain aur Crypto Currency بٹ کو...</td>\n",
       "      <td>10/3/2019 16:44</td>\n",
       "      <td>Karachi</td>\n",
       "      <td>Cash on Delivery (COD)</td>\n",
       "      <td>1</td>\n",
       "      <td>200.0</td>\n",
       "    </tr>\n",
       "    <tr>\n",
       "      <th>7</th>\n",
       "      <td>315</td>\n",
       "      <td>Completed</td>\n",
       "      <td>Global Science - Issue 219/R ka Taaruf  آر کا ...</td>\n",
       "      <td>10/3/2019 19:34</td>\n",
       "      <td>Karach</td>\n",
       "      <td>Cash on Delivery (COD)</td>\n",
       "      <td>2</td>\n",
       "      <td>200.0</td>\n",
       "    </tr>\n",
       "  </tbody>\n",
       "</table>\n",
       "</div>"
      ],
      "text/plain": [
       "   Order Number Order Status  \\\n",
       "4           311    Completed   \n",
       "7           315    Completed   \n",
       "\n",
       "                                           Book Name Order Date & Time  \\\n",
       "4  Bit Coin Block Chain aur Crypto Currency بٹ کو...   10/3/2019 16:44   \n",
       "7  Global Science - Issue 219/R ka Taaruf  آر کا ...   10/3/2019 19:34   \n",
       "\n",
       "       City          Payment Method  Total items  Total weight (grams)  \n",
       "4  Karachi   Cash on Delivery (COD)            1                 200.0  \n",
       "7    Karach  Cash on Delivery (COD)            2                 200.0  "
      ]
     },
     "execution_count": 18,
     "metadata": {},
     "output_type": "execute_result"
    }
   ],
   "source": [
    "orders[orders['City'].str.startswith('Ka',na=False)].head(2)# with Large K"
   ]
  },
  {
   "cell_type": "code",
   "execution_count": 19,
   "id": "4edced0c",
   "metadata": {
    "execution": {
     "iopub.execute_input": "2024-07-02T11:59:51.305716Z",
     "iopub.status.busy": "2024-07-02T11:59:51.305299Z",
     "iopub.status.idle": "2024-07-02T11:59:51.333432Z",
     "shell.execute_reply": "2024-07-02T11:59:51.332082Z"
    },
    "papermill": {
     "duration": 0.065102,
     "end_time": "2024-07-02T11:59:51.336520",
     "exception": false,
     "start_time": "2024-07-02T11:59:51.271418",
     "status": "completed"
    },
    "tags": []
   },
   "outputs": [
    {
     "data": {
      "text/html": [
       "<div>\n",
       "<style scoped>\n",
       "    .dataframe tbody tr th:only-of-type {\n",
       "        vertical-align: middle;\n",
       "    }\n",
       "\n",
       "    .dataframe tbody tr th {\n",
       "        vertical-align: top;\n",
       "    }\n",
       "\n",
       "    .dataframe thead th {\n",
       "        text-align: right;\n",
       "    }\n",
       "</style>\n",
       "<table border=\"1\" class=\"dataframe\">\n",
       "  <thead>\n",
       "    <tr style=\"text-align: right;\">\n",
       "      <th></th>\n",
       "      <th>Order Number</th>\n",
       "      <th>Order Status</th>\n",
       "      <th>Book Name</th>\n",
       "      <th>Order Date &amp; Time</th>\n",
       "      <th>City</th>\n",
       "      <th>Payment Method</th>\n",
       "      <th>Total items</th>\n",
       "      <th>Total weight (grams)</th>\n",
       "    </tr>\n",
       "  </thead>\n",
       "  <tbody>\n",
       "    <tr>\n",
       "      <th>310</th>\n",
       "      <td>5600</td>\n",
       "      <td>Completed</td>\n",
       "      <td>R ka Taaruf  آر کا تعارف</td>\n",
       "      <td>12/22/2019 1:19</td>\n",
       "      <td>lahore</td>\n",
       "      <td>Cash on delivery</td>\n",
       "      <td>1</td>\n",
       "      <td>200.0</td>\n",
       "    </tr>\n",
       "    <tr>\n",
       "      <th>344</th>\n",
       "      <td>5708</td>\n",
       "      <td>Completed</td>\n",
       "      <td>ڈیٹا سائنس ۔ ایک تعارف</td>\n",
       "      <td>12/22/2019 18:09</td>\n",
       "      <td>lahore</td>\n",
       "      <td>Cash on delivery</td>\n",
       "      <td>1</td>\n",
       "      <td>600.0</td>\n",
       "    </tr>\n",
       "  </tbody>\n",
       "</table>\n",
       "</div>"
      ],
      "text/plain": [
       "     Order Number Order Status                 Book Name Order Date & Time  \\\n",
       "310          5600    Completed  R ka Taaruf  آر کا تعارف   12/22/2019 1:19   \n",
       "344          5708    Completed    ڈیٹا سائنس ۔ ایک تعارف  12/22/2019 18:09   \n",
       "\n",
       "       City    Payment Method  Total items  Total weight (grams)  \n",
       "310  lahore  Cash on delivery            1                 200.0  \n",
       "344  lahore  Cash on delivery            1                 600.0  "
      ]
     },
     "execution_count": 19,
     "metadata": {},
     "output_type": "execute_result"
    }
   ],
   "source": [
    "orders[orders['City'].str.startswith('la',na=False)].head(2)# with Large l & also for L"
   ]
  },
  {
   "cell_type": "code",
   "execution_count": 20,
   "id": "7344fc80",
   "metadata": {
    "execution": {
     "iopub.execute_input": "2024-07-02T11:59:51.401763Z",
     "iopub.status.busy": "2024-07-02T11:59:51.401336Z",
     "iopub.status.idle": "2024-07-02T11:59:51.429802Z",
     "shell.execute_reply": "2024-07-02T11:59:51.428594Z"
    },
    "papermill": {
     "duration": 0.065332,
     "end_time": "2024-07-02T11:59:51.433073",
     "exception": false,
     "start_time": "2024-07-02T11:59:51.367741",
     "status": "completed"
    },
    "tags": []
   },
   "outputs": [
    {
     "data": {
      "text/plain": [
       "0"
      ]
     },
     "execution_count": 20,
     "metadata": {},
     "output_type": "execute_result"
    }
   ],
   "source": [
    "orders.duplicated().sum()"
   ]
  },
  {
   "cell_type": "code",
   "execution_count": 21,
   "id": "4e5ab6ef",
   "metadata": {
    "execution": {
     "iopub.execute_input": "2024-07-02T11:59:51.497990Z",
     "iopub.status.busy": "2024-07-02T11:59:51.497551Z",
     "iopub.status.idle": "2024-07-02T11:59:51.506775Z",
     "shell.execute_reply": "2024-07-02T11:59:51.505761Z"
    },
    "papermill": {
     "duration": 0.044376,
     "end_time": "2024-07-02T11:59:51.509257",
     "exception": false,
     "start_time": "2024-07-02T11:59:51.464881",
     "status": "completed"
    },
    "tags": []
   },
   "outputs": [
    {
     "data": {
      "text/plain": [
       "14225                                           مشین لرننگ\n",
       "8313                                         Teesra Kinara\n",
       "10151                                   Earn from Internet\n",
       "18658    انٹرنیٹ سے پیسہ کمائیں/Python Programming/Dash...\n",
       "8663                                    Python Programming\n",
       "Name: Book Name, dtype: object"
      ]
     },
     "execution_count": 21,
     "metadata": {},
     "output_type": "execute_result"
    }
   ],
   "source": [
    "# many books in 1 column\n",
    "orders['Book Name'].sample(5)"
   ]
  },
  {
   "cell_type": "markdown",
   "id": "5301650f",
   "metadata": {
    "papermill": {
     "duration": 0.031087,
     "end_time": "2024-07-02T11:59:51.571615",
     "exception": false,
     "start_time": "2024-07-02T11:59:51.540528",
     "status": "completed"
    },
    "tags": []
   },
   "source": [
    "## Data Quality Issues for Dirty (with dimensions) & Messy Data\n",
    "\n",
    "<div style=\"margin-top: 2em; text-align: center;\">\n",
    "    <h4>For Dirty Data</h4>\n",
    "</div>\n",
    "<div style=\"text-align: left;\">\n",
    "    <h4>Completeness (Missing Values):</h4>\n",
    "    <p>- Book Name</p>\n",
    "    <p>- City</p>\n",
    "    <p>- Payment Method</p>\n",
    "</div>\n",
    "<div style=\"text-align: left;\">\n",
    "    <h4>Validity:</h4>\n",
    "    <p>- Total items: Contains an outlier</p>\n",
    "</div>\n",
    "<div style=\"text-align: left;\">\n",
    "    <h4>Accuracy:</h4>\n",
    "    <p>- Date & Time: Stored in object data type; should be in Pandas datetime format</p>\n",
    "    <p>- Weight: Should be in proper whole number format (float)</p>\n",
    "</div>\n",
    "<div style=\"text-align: left;\">\n",
    "    <h4>Consistency:</h4>\n",
    "    <p>- Payment Method: Same type but written differently</p>\n",
    "    <p>- City: Same name but written differently (e.g., \"Sadiqabad\" as \"Sadiq abad\", \"Lahore\" as \"lahore\")</p>\n",
    "</div>\n",
    "<div style=\"margin-top: 2em; text-align: center;\">\n",
    "    <h4>For Messy Data</h4>\n",
    "</div>\n",
    "<div style=\"text-align: left;\">\n",
    "    <p>- Order Date & Time: There should be separate columns for year and month</p>\n",
    "    <p>- The 'Books' column has multiple books in one cell; they should be separated</p>\n",
    "</div>\n"
   ]
  },
  {
   "cell_type": "markdown",
   "id": "7d340a82",
   "metadata": {
    "papermill": {
     "duration": 0.032348,
     "end_time": "2024-07-02T11:59:51.635635",
     "exception": false,
     "start_time": "2024-07-02T11:59:51.603287",
     "status": "completed"
    },
    "tags": []
   },
   "source": [
    "## Data Cleaning Order\n",
    "Order of severity:\n",
    "1. Quality -> Completeness\n",
    "2. Tidiness (messy)\n",
    "3. Quality -> Validity\n",
    "4. Quality -> Accuracy\n",
    "5. Quality -> Consistency"
   ]
  },
  {
   "cell_type": "markdown",
   "id": "24e18f3d",
   "metadata": {
    "papermill": {
     "duration": 0.032169,
     "end_time": "2024-07-02T11:59:51.699466",
     "exception": false,
     "start_time": "2024-07-02T11:59:51.667297",
     "status": "completed"
    },
    "tags": []
   },
   "source": [
    "Before starting the cleaning process, it is advisable to create a copy of your Pandas DataFrame to preserve the original data."
   ]
  },
  {
   "cell_type": "code",
   "execution_count": 22,
   "id": "6b9039cb",
   "metadata": {
    "execution": {
     "iopub.execute_input": "2024-07-02T11:59:51.766285Z",
     "iopub.status.busy": "2024-07-02T11:59:51.765825Z",
     "iopub.status.idle": "2024-07-02T11:59:51.773538Z",
     "shell.execute_reply": "2024-07-02T11:59:51.771869Z"
    },
    "papermill": {
     "duration": 0.04477,
     "end_time": "2024-07-02T11:59:51.776761",
     "exception": false,
     "start_time": "2024-07-02T11:59:51.731991",
     "status": "completed"
    },
    "tags": []
   },
   "outputs": [],
   "source": [
    "Books=orders.copy()"
   ]
  },
  {
   "cell_type": "code",
   "execution_count": 23,
   "id": "49544ebc",
   "metadata": {
    "execution": {
     "iopub.execute_input": "2024-07-02T11:59:51.845726Z",
     "iopub.status.busy": "2024-07-02T11:59:51.845301Z",
     "iopub.status.idle": "2024-07-02T11:59:51.874179Z",
     "shell.execute_reply": "2024-07-02T11:59:51.871964Z"
    },
    "papermill": {
     "duration": 0.067257,
     "end_time": "2024-07-02T11:59:51.877592",
     "exception": false,
     "start_time": "2024-07-02T11:59:51.810335",
     "status": "completed"
    },
    "tags": []
   },
   "outputs": [
    {
     "data": {
      "text/html": [
       "<div>\n",
       "<style scoped>\n",
       "    .dataframe tbody tr th:only-of-type {\n",
       "        vertical-align: middle;\n",
       "    }\n",
       "\n",
       "    .dataframe tbody tr th {\n",
       "        vertical-align: top;\n",
       "    }\n",
       "\n",
       "    .dataframe thead th {\n",
       "        text-align: right;\n",
       "    }\n",
       "</style>\n",
       "<table border=\"1\" class=\"dataframe\">\n",
       "  <thead>\n",
       "    <tr style=\"text-align: right;\">\n",
       "      <th></th>\n",
       "      <th>Order Number</th>\n",
       "      <th>Order Status</th>\n",
       "      <th>Book Name</th>\n",
       "      <th>Order Date &amp; Time</th>\n",
       "      <th>City</th>\n",
       "      <th>Payment Method</th>\n",
       "      <th>Total items</th>\n",
       "      <th>Total weight (grams)</th>\n",
       "    </tr>\n",
       "  </thead>\n",
       "  <tbody>\n",
       "    <tr>\n",
       "      <th>0</th>\n",
       "      <td>307</td>\n",
       "      <td>Completed</td>\n",
       "      <td>Bitcoin Blockchain aur Crypto Currency - FREE ...</td>\n",
       "      <td>10/3/2019 15:03</td>\n",
       "      <td>faisalabad</td>\n",
       "      <td>NaN</td>\n",
       "      <td>2</td>\n",
       "      <td>200.0</td>\n",
       "    </tr>\n",
       "    <tr>\n",
       "      <th>1</th>\n",
       "      <td>308</td>\n",
       "      <td>Completed</td>\n",
       "      <td>Kaggle for Begginers</td>\n",
       "      <td>10/3/2019 15:54</td>\n",
       "      <td>Rawalpindi</td>\n",
       "      <td>Cash on Delivery (COD)</td>\n",
       "      <td>1</td>\n",
       "      <td>200.0</td>\n",
       "    </tr>\n",
       "    <tr>\n",
       "      <th>2</th>\n",
       "      <td>309</td>\n",
       "      <td>Completed</td>\n",
       "      <td>Kaggle for Begginers/Bitcoin Blockchain aur Cr...</td>\n",
       "      <td>10/3/2019 16:09</td>\n",
       "      <td>Hyderabad</td>\n",
       "      <td>Cash on Delivery (COD)</td>\n",
       "      <td>2</td>\n",
       "      <td>200.0</td>\n",
       "    </tr>\n",
       "    <tr>\n",
       "      <th>3</th>\n",
       "      <td>310</td>\n",
       "      <td>Cancelled</td>\n",
       "      <td>Kaggle for Begginers</td>\n",
       "      <td>10/3/2019 16:42</td>\n",
       "      <td>Rawalpindi</td>\n",
       "      <td>Cash on Delivery (COD)</td>\n",
       "      <td>1</td>\n",
       "      <td>200.0</td>\n",
       "    </tr>\n",
       "    <tr>\n",
       "      <th>4</th>\n",
       "      <td>311</td>\n",
       "      <td>Completed</td>\n",
       "      <td>Bit Coin Block Chain aur Crypto Currency بٹ کو...</td>\n",
       "      <td>10/3/2019 16:44</td>\n",
       "      <td>Karachi</td>\n",
       "      <td>Cash on Delivery (COD)</td>\n",
       "      <td>1</td>\n",
       "      <td>200.0</td>\n",
       "    </tr>\n",
       "    <tr>\n",
       "      <th>...</th>\n",
       "      <td>...</td>\n",
       "      <td>...</td>\n",
       "      <td>...</td>\n",
       "      <td>...</td>\n",
       "      <td>...</td>\n",
       "      <td>...</td>\n",
       "      <td>...</td>\n",
       "      <td>...</td>\n",
       "    </tr>\n",
       "    <tr>\n",
       "      <th>19234</th>\n",
       "      <td>71332</td>\n",
       "      <td>Completed</td>\n",
       "      <td>Linux - An Introduction</td>\n",
       "      <td>1/25/2021 12:46</td>\n",
       "      <td>Lahore</td>\n",
       "      <td>Cash on delivery</td>\n",
       "      <td>1</td>\n",
       "      <td>200.0</td>\n",
       "    </tr>\n",
       "    <tr>\n",
       "      <th>19235</th>\n",
       "      <td>71394</td>\n",
       "      <td>Completed</td>\n",
       "      <td>R ka Taaruf/ڈیٹا سائنس/Python Programming/Kagg...</td>\n",
       "      <td>1/25/2021 14:06</td>\n",
       "      <td>Lahore</td>\n",
       "      <td>Cash on delivery</td>\n",
       "      <td>4</td>\n",
       "      <td>200.0</td>\n",
       "    </tr>\n",
       "    <tr>\n",
       "      <th>19236</th>\n",
       "      <td>71418</td>\n",
       "      <td>Completed</td>\n",
       "      <td>Blockchain, Cryptocurrency And Bitcoin/Column ...</td>\n",
       "      <td>1/25/2021 16:37</td>\n",
       "      <td>Larkana</td>\n",
       "      <td>Cash on delivery</td>\n",
       "      <td>2</td>\n",
       "      <td>500.0</td>\n",
       "    </tr>\n",
       "    <tr>\n",
       "      <th>19237</th>\n",
       "      <td>71419</td>\n",
       "      <td>Completed</td>\n",
       "      <td>مشین لرننگ/ڈیٹا سائنس/Artificial Intelligence/...</td>\n",
       "      <td>1/25/2021 18:01</td>\n",
       "      <td>Mailsi, district Vehari</td>\n",
       "      <td>Cash on delivery</td>\n",
       "      <td>10</td>\n",
       "      <td>400.0</td>\n",
       "    </tr>\n",
       "    <tr>\n",
       "      <th>19238</th>\n",
       "      <td>71420</td>\n",
       "      <td>Completed</td>\n",
       "      <td>Linux - An Introduction/Python Programming/Kag...</td>\n",
       "      <td>1/25/2021 20:47</td>\n",
       "      <td>Lahore</td>\n",
       "      <td>Cash on delivery</td>\n",
       "      <td>7</td>\n",
       "      <td>400.0</td>\n",
       "    </tr>\n",
       "  </tbody>\n",
       "</table>\n",
       "<p>19239 rows × 8 columns</p>\n",
       "</div>"
      ],
      "text/plain": [
       "       Order Number Order Status  \\\n",
       "0               307    Completed   \n",
       "1               308    Completed   \n",
       "2               309    Completed   \n",
       "3               310    Cancelled   \n",
       "4               311    Completed   \n",
       "...             ...          ...   \n",
       "19234         71332    Completed   \n",
       "19235         71394    Completed   \n",
       "19236         71418    Completed   \n",
       "19237         71419    Completed   \n",
       "19238         71420    Completed   \n",
       "\n",
       "                                               Book Name Order Date & Time  \\\n",
       "0      Bitcoin Blockchain aur Crypto Currency - FREE ...   10/3/2019 15:03   \n",
       "1                                   Kaggle for Begginers   10/3/2019 15:54   \n",
       "2      Kaggle for Begginers/Bitcoin Blockchain aur Cr...   10/3/2019 16:09   \n",
       "3                                   Kaggle for Begginers   10/3/2019 16:42   \n",
       "4      Bit Coin Block Chain aur Crypto Currency بٹ کو...   10/3/2019 16:44   \n",
       "...                                                  ...               ...   \n",
       "19234                            Linux - An Introduction   1/25/2021 12:46   \n",
       "19235  R ka Taaruf/ڈیٹا سائنس/Python Programming/Kagg...   1/25/2021 14:06   \n",
       "19236  Blockchain, Cryptocurrency And Bitcoin/Column ...   1/25/2021 16:37   \n",
       "19237  مشین لرننگ/ڈیٹا سائنس/Artificial Intelligence/...   1/25/2021 18:01   \n",
       "19238  Linux - An Introduction/Python Programming/Kag...   1/25/2021 20:47   \n",
       "\n",
       "                          City          Payment Method  Total items  \\\n",
       "0                   faisalabad                     NaN            2   \n",
       "1                   Rawalpindi  Cash on Delivery (COD)            1   \n",
       "2                    Hyderabad  Cash on Delivery (COD)            2   \n",
       "3                   Rawalpindi  Cash on Delivery (COD)            1   \n",
       "4                     Karachi   Cash on Delivery (COD)            1   \n",
       "...                        ...                     ...          ...   \n",
       "19234                   Lahore        Cash on delivery            1   \n",
       "19235                   Lahore        Cash on delivery            4   \n",
       "19236                  Larkana        Cash on delivery            2   \n",
       "19237  Mailsi, district Vehari        Cash on delivery           10   \n",
       "19238                   Lahore        Cash on delivery            7   \n",
       "\n",
       "       Total weight (grams)  \n",
       "0                     200.0  \n",
       "1                     200.0  \n",
       "2                     200.0  \n",
       "3                     200.0  \n",
       "4                     200.0  \n",
       "...                     ...  \n",
       "19234                 200.0  \n",
       "19235                 200.0  \n",
       "19236                 500.0  \n",
       "19237                 400.0  \n",
       "19238                 400.0  \n",
       "\n",
       "[19239 rows x 8 columns]"
      ]
     },
     "execution_count": 23,
     "metadata": {},
     "output_type": "execute_result"
    }
   ],
   "source": [
    "Books"
   ]
  },
  {
   "cell_type": "markdown",
   "id": "938ebd96",
   "metadata": {
    "papermill": {
     "duration": 0.036718,
     "end_time": "2024-07-02T11:59:51.953737",
     "exception": false,
     "start_time": "2024-07-02T11:59:51.917019",
     "status": "completed"
    },
    "tags": []
   },
   "source": [
    "1. Completeness\n",
    " Have Missing values\n",
    "- Book Name\n",
    "- City\n",
    "- Payment Method\n",
    "Fill them"
   ]
  },
  {
   "cell_type": "code",
   "execution_count": 24,
   "id": "01709025",
   "metadata": {
    "execution": {
     "iopub.execute_input": "2024-07-02T11:59:52.045162Z",
     "iopub.status.busy": "2024-07-02T11:59:52.044564Z",
     "iopub.status.idle": "2024-07-02T11:59:52.055839Z",
     "shell.execute_reply": "2024-07-02T11:59:52.054370Z"
    },
    "papermill": {
     "duration": 0.059307,
     "end_time": "2024-07-02T11:59:52.058931",
     "exception": false,
     "start_time": "2024-07-02T11:59:51.999624",
     "status": "completed"
    },
    "tags": []
   },
   "outputs": [
    {
     "data": {
      "text/plain": [
       "2"
      ]
     },
     "execution_count": 24,
     "metadata": {},
     "output_type": "execute_result"
    }
   ],
   "source": [
    "Books['Book Name'].isnull().sum()"
   ]
  },
  {
   "cell_type": "code",
   "execution_count": 25,
   "id": "a6de7db8",
   "metadata": {
    "execution": {
     "iopub.execute_input": "2024-07-02T11:59:52.126254Z",
     "iopub.status.busy": "2024-07-02T11:59:52.125801Z",
     "iopub.status.idle": "2024-07-02T11:59:52.136934Z",
     "shell.execute_reply": "2024-07-02T11:59:52.135689Z"
    },
    "papermill": {
     "duration": 0.047582,
     "end_time": "2024-07-02T11:59:52.139651",
     "exception": false,
     "start_time": "2024-07-02T11:59:52.092069",
     "status": "completed"
    },
    "tags": []
   },
   "outputs": [],
   "source": [
    "Books['Book Name'] = Books['Book Name'].fillna('Unknown')"
   ]
  },
  {
   "cell_type": "code",
   "execution_count": 26,
   "id": "069d9d5e",
   "metadata": {
    "execution": {
     "iopub.execute_input": "2024-07-02T11:59:52.221428Z",
     "iopub.status.busy": "2024-07-02T11:59:52.220975Z",
     "iopub.status.idle": "2024-07-02T11:59:52.233218Z",
     "shell.execute_reply": "2024-07-02T11:59:52.231990Z"
    },
    "papermill": {
     "duration": 0.05256,
     "end_time": "2024-07-02T11:59:52.236317",
     "exception": false,
     "start_time": "2024-07-02T11:59:52.183757",
     "status": "completed"
    },
    "tags": []
   },
   "outputs": [
    {
     "data": {
      "text/plain": [
       "1"
      ]
     },
     "execution_count": 26,
     "metadata": {},
     "output_type": "execute_result"
    }
   ],
   "source": [
    "Books['City'].isnull().sum()"
   ]
  },
  {
   "cell_type": "code",
   "execution_count": 27,
   "id": "ee799497",
   "metadata": {
    "execution": {
     "iopub.execute_input": "2024-07-02T11:59:52.312256Z",
     "iopub.status.busy": "2024-07-02T11:59:52.311822Z",
     "iopub.status.idle": "2024-07-02T11:59:52.321329Z",
     "shell.execute_reply": "2024-07-02T11:59:52.320001Z"
    },
    "papermill": {
     "duration": 0.048166,
     "end_time": "2024-07-02T11:59:52.324107",
     "exception": false,
     "start_time": "2024-07-02T11:59:52.275941",
     "status": "completed"
    },
    "tags": []
   },
   "outputs": [],
   "source": [
    "Books['City']=Books['City'].fillna('Unknown')"
   ]
  },
  {
   "cell_type": "code",
   "execution_count": 28,
   "id": "10b1c590",
   "metadata": {
    "execution": {
     "iopub.execute_input": "2024-07-02T11:59:52.390230Z",
     "iopub.status.busy": "2024-07-02T11:59:52.389744Z",
     "iopub.status.idle": "2024-07-02T11:59:52.399657Z",
     "shell.execute_reply": "2024-07-02T11:59:52.398533Z"
    },
    "papermill": {
     "duration": 0.045852,
     "end_time": "2024-07-02T11:59:52.402270",
     "exception": false,
     "start_time": "2024-07-02T11:59:52.356418",
     "status": "completed"
    },
    "tags": []
   },
   "outputs": [
    {
     "data": {
      "text/plain": [
       "0"
      ]
     },
     "execution_count": 28,
     "metadata": {},
     "output_type": "execute_result"
    }
   ],
   "source": [
    "Books['City'].isnull().sum()"
   ]
  },
  {
   "cell_type": "code",
   "execution_count": 29,
   "id": "1e3c1c8a",
   "metadata": {
    "execution": {
     "iopub.execute_input": "2024-07-02T11:59:52.470343Z",
     "iopub.status.busy": "2024-07-02T11:59:52.469165Z",
     "iopub.status.idle": "2024-07-02T11:59:52.480174Z",
     "shell.execute_reply": "2024-07-02T11:59:52.478991Z"
    },
    "papermill": {
     "duration": 0.047421,
     "end_time": "2024-07-02T11:59:52.482759",
     "exception": false,
     "start_time": "2024-07-02T11:59:52.435338",
     "status": "completed"
    },
    "tags": []
   },
   "outputs": [
    {
     "data": {
      "text/plain": [
       "10"
      ]
     },
     "execution_count": 29,
     "metadata": {},
     "output_type": "execute_result"
    }
   ],
   "source": [
    "Books['Payment Method'].isna().sum()"
   ]
  },
  {
   "cell_type": "code",
   "execution_count": 30,
   "id": "5bb61a48",
   "metadata": {
    "execution": {
     "iopub.execute_input": "2024-07-02T11:59:52.558905Z",
     "iopub.status.busy": "2024-07-02T11:59:52.557958Z",
     "iopub.status.idle": "2024-07-02T11:59:52.571280Z",
     "shell.execute_reply": "2024-07-02T11:59:52.569067Z"
    },
    "papermill": {
     "duration": 0.059589,
     "end_time": "2024-07-02T11:59:52.575171",
     "exception": false,
     "start_time": "2024-07-02T11:59:52.515582",
     "status": "completed"
    },
    "tags": []
   },
   "outputs": [],
   "source": [
    "Books['Payment Method'] = Books['Payment Method'].fillna('M')\n"
   ]
  },
  {
   "cell_type": "code",
   "execution_count": 31,
   "id": "db6f1eab",
   "metadata": {
    "execution": {
     "iopub.execute_input": "2024-07-02T11:59:52.650363Z",
     "iopub.status.busy": "2024-07-02T11:59:52.649923Z",
     "iopub.status.idle": "2024-07-02T11:59:52.672115Z",
     "shell.execute_reply": "2024-07-02T11:59:52.670859Z"
    },
    "papermill": {
     "duration": 0.058971,
     "end_time": "2024-07-02T11:59:52.674736",
     "exception": false,
     "start_time": "2024-07-02T11:59:52.615765",
     "status": "completed"
    },
    "tags": []
   },
   "outputs": [
    {
     "data": {
      "text/plain": [
       "Order Number            0\n",
       "Order Status            0\n",
       "Book Name               0\n",
       "Order Date & Time       0\n",
       "City                    0\n",
       "Payment Method          0\n",
       "Total items             0\n",
       "Total weight (grams)    0\n",
       "dtype: int64"
      ]
     },
     "execution_count": 31,
     "metadata": {},
     "output_type": "execute_result"
    }
   ],
   "source": [
    "Books.isna().sum()"
   ]
  },
  {
   "cell_type": "markdown",
   "id": "49619011",
   "metadata": {
    "papermill": {
     "duration": 0.03474,
     "end_time": "2024-07-02T11:59:52.742627",
     "exception": false,
     "start_time": "2024-07-02T11:59:52.707887",
     "status": "completed"
    },
    "tags": []
   },
   "source": [
    "1. Messay Data\n",
    "- Order Date & Time: There should be separate columns for year and month</p>\n",
    "- The 'Books' column has multiple books in one cell; they should be separated</p>"
   ]
  },
  {
   "cell_type": "code",
   "execution_count": 32,
   "id": "27551ae3",
   "metadata": {
    "execution": {
     "iopub.execute_input": "2024-07-02T11:59:52.809584Z",
     "iopub.status.busy": "2024-07-02T11:59:52.809161Z",
     "iopub.status.idle": "2024-07-02T11:59:52.933794Z",
     "shell.execute_reply": "2024-07-02T11:59:52.932628Z"
    },
    "papermill": {
     "duration": 0.161425,
     "end_time": "2024-07-02T11:59:52.936524",
     "exception": false,
     "start_time": "2024-07-02T11:59:52.775099",
     "status": "completed"
    },
    "tags": []
   },
   "outputs": [],
   "source": [
    "Books['Order Date & Time']=pd.to_datetime(Books['Order Date & Time'])"
   ]
  },
  {
   "cell_type": "code",
   "execution_count": 33,
   "id": "98047899",
   "metadata": {
    "execution": {
     "iopub.execute_input": "2024-07-02T11:59:53.004398Z",
     "iopub.status.busy": "2024-07-02T11:59:53.003500Z",
     "iopub.status.idle": "2024-07-02T11:59:53.011099Z",
     "shell.execute_reply": "2024-07-02T11:59:53.010010Z"
    },
    "papermill": {
     "duration": 0.044404,
     "end_time": "2024-07-02T11:59:53.013769",
     "exception": false,
     "start_time": "2024-07-02T11:59:52.969365",
     "status": "completed"
    },
    "tags": []
   },
   "outputs": [],
   "source": [
    "Books['Year']=Books['Order Date & Time'].dt.year"
   ]
  },
  {
   "cell_type": "code",
   "execution_count": 34,
   "id": "a0521e5a",
   "metadata": {
    "execution": {
     "iopub.execute_input": "2024-07-02T11:59:53.083654Z",
     "iopub.status.busy": "2024-07-02T11:59:53.083222Z",
     "iopub.status.idle": "2024-07-02T11:59:53.254953Z",
     "shell.execute_reply": "2024-07-02T11:59:53.253487Z"
    },
    "papermill": {
     "duration": 0.210862,
     "end_time": "2024-07-02T11:59:53.257604",
     "exception": false,
     "start_time": "2024-07-02T11:59:53.046742",
     "status": "completed"
    },
    "tags": []
   },
   "outputs": [],
   "source": [
    "Books['Month']=Books['Order Date & Time'].dt.strftime('%b')"
   ]
  },
  {
   "cell_type": "code",
   "execution_count": 35,
   "id": "4831588a",
   "metadata": {
    "execution": {
     "iopub.execute_input": "2024-07-02T11:59:53.324834Z",
     "iopub.status.busy": "2024-07-02T11:59:53.324415Z",
     "iopub.status.idle": "2024-07-02T11:59:53.339396Z",
     "shell.execute_reply": "2024-07-02T11:59:53.338170Z"
    },
    "papermill": {
     "duration": 0.051969,
     "end_time": "2024-07-02T11:59:53.342160",
     "exception": false,
     "start_time": "2024-07-02T11:59:53.290191",
     "status": "completed"
    },
    "tags": []
   },
   "outputs": [],
   "source": [
    "Books['Day']=Books['Order Date & Time'].dt.day_name()"
   ]
  },
  {
   "cell_type": "code",
   "execution_count": 36,
   "id": "0a50eee2",
   "metadata": {
    "execution": {
     "iopub.execute_input": "2024-07-02T11:59:53.410121Z",
     "iopub.status.busy": "2024-07-02T11:59:53.409073Z",
     "iopub.status.idle": "2024-07-02T11:59:54.446620Z",
     "shell.execute_reply": "2024-07-02T11:59:54.445207Z"
    },
    "papermill": {
     "duration": 1.074842,
     "end_time": "2024-07-02T11:59:54.450054",
     "exception": false,
     "start_time": "2024-07-02T11:59:53.375212",
     "status": "completed"
    },
    "tags": []
   },
   "outputs": [],
   "source": [
    "num=[]\n",
    "book=[]\n",
    "status=[]\n",
    "def extract_data(df):\n",
    "        for i,no in enumerate(df['Order Number']):\n",
    "            bk=df['Book Name'].iloc[i].split('/')\n",
    "            for idx in range(len(bk)):\n",
    "                num.append(no)\n",
    "                book.append(bk[idx])\n",
    "                status.append(df['Order Status'].iloc[i])\n",
    "        newDf=pd.DataFrame({\n",
    "         'Order No':num,\n",
    "         'Books Name':book,\n",
    "          'Status':status}\n",
    "        )\n",
    "        return newDf\n",
    "AllBooks=extract_data(Books)"
   ]
  },
  {
   "cell_type": "code",
   "execution_count": 37,
   "id": "5ed15eda",
   "metadata": {
    "execution": {
     "iopub.execute_input": "2024-07-02T11:59:54.529193Z",
     "iopub.status.busy": "2024-07-02T11:59:54.528050Z",
     "iopub.status.idle": "2024-07-02T11:59:54.540767Z",
     "shell.execute_reply": "2024-07-02T11:59:54.539527Z"
    },
    "papermill": {
     "duration": 0.051891,
     "end_time": "2024-07-02T11:59:54.544855",
     "exception": false,
     "start_time": "2024-07-02T11:59:54.492964",
     "status": "completed"
    },
    "tags": []
   },
   "outputs": [
    {
     "data": {
      "text/html": [
       "<div>\n",
       "<style scoped>\n",
       "    .dataframe tbody tr th:only-of-type {\n",
       "        vertical-align: middle;\n",
       "    }\n",
       "\n",
       "    .dataframe tbody tr th {\n",
       "        vertical-align: top;\n",
       "    }\n",
       "\n",
       "    .dataframe thead th {\n",
       "        text-align: right;\n",
       "    }\n",
       "</style>\n",
       "<table border=\"1\" class=\"dataframe\">\n",
       "  <thead>\n",
       "    <tr style=\"text-align: right;\">\n",
       "      <th></th>\n",
       "      <th>Order No</th>\n",
       "      <th>Books Name</th>\n",
       "      <th>Status</th>\n",
       "    </tr>\n",
       "  </thead>\n",
       "  <tbody>\n",
       "    <tr>\n",
       "      <th>0</th>\n",
       "      <td>307</td>\n",
       "      <td>Bitcoin Blockchain aur Crypto Currency - FREE ...</td>\n",
       "      <td>Completed</td>\n",
       "    </tr>\n",
       "    <tr>\n",
       "      <th>1</th>\n",
       "      <td>308</td>\n",
       "      <td>Kaggle for Begginers</td>\n",
       "      <td>Completed</td>\n",
       "    </tr>\n",
       "    <tr>\n",
       "      <th>2</th>\n",
       "      <td>309</td>\n",
       "      <td>Kaggle for Begginers</td>\n",
       "      <td>Completed</td>\n",
       "    </tr>\n",
       "    <tr>\n",
       "      <th>3</th>\n",
       "      <td>309</td>\n",
       "      <td>Bitcoin Blockchain aur Crypto Currency - FREE ...</td>\n",
       "      <td>Completed</td>\n",
       "    </tr>\n",
       "    <tr>\n",
       "      <th>4</th>\n",
       "      <td>310</td>\n",
       "      <td>Kaggle for Begginers</td>\n",
       "      <td>Cancelled</td>\n",
       "    </tr>\n",
       "    <tr>\n",
       "      <th>5</th>\n",
       "      <td>311</td>\n",
       "      <td>Bit Coin Block Chain aur Crypto Currency بٹ کو...</td>\n",
       "      <td>Completed</td>\n",
       "    </tr>\n",
       "    <tr>\n",
       "      <th>6</th>\n",
       "      <td>312</td>\n",
       "      <td>Bit Coin Block Chain aur Crypto Currency بٹ کو...</td>\n",
       "      <td>Completed</td>\n",
       "    </tr>\n",
       "    <tr>\n",
       "      <th>7</th>\n",
       "      <td>312</td>\n",
       "      <td>Kaggle for Begginers</td>\n",
       "      <td>Completed</td>\n",
       "    </tr>\n",
       "    <tr>\n",
       "      <th>8</th>\n",
       "      <td>312</td>\n",
       "      <td>(C++) ++سی</td>\n",
       "      <td>Completed</td>\n",
       "    </tr>\n",
       "    <tr>\n",
       "      <th>9</th>\n",
       "      <td>312</td>\n",
       "      <td>سی</td>\n",
       "      <td>Completed</td>\n",
       "    </tr>\n",
       "  </tbody>\n",
       "</table>\n",
       "</div>"
      ],
      "text/plain": [
       "   Order No                                         Books Name     Status\n",
       "0       307  Bitcoin Blockchain aur Crypto Currency - FREE ...  Completed\n",
       "1       308                               Kaggle for Begginers  Completed\n",
       "2       309                               Kaggle for Begginers  Completed\n",
       "3       309  Bitcoin Blockchain aur Crypto Currency - FREE ...  Completed\n",
       "4       310                               Kaggle for Begginers  Cancelled\n",
       "5       311  Bit Coin Block Chain aur Crypto Currency بٹ کو...  Completed\n",
       "6       312  Bit Coin Block Chain aur Crypto Currency بٹ کو...  Completed\n",
       "7       312                               Kaggle for Begginers  Completed\n",
       "8       312                                         (C++) ++سی  Completed\n",
       "9       312                                                 سی  Completed"
      ]
     },
     "execution_count": 37,
     "metadata": {},
     "output_type": "execute_result"
    }
   ],
   "source": [
    "AllBooks.head(10)"
   ]
  },
  {
   "cell_type": "markdown",
   "id": "859d6cd7",
   "metadata": {
    "papermill": {
     "duration": 0.039156,
     "end_time": "2024-07-02T11:59:54.625253",
     "exception": false,
     "start_time": "2024-07-02T11:59:54.586097",
     "status": "completed"
    },
    "tags": []
   },
   "source": [
    "**Validity**\n",
    " - Total items: Contains an outlier"
   ]
  },
  {
   "cell_type": "code",
   "execution_count": 38,
   "id": "c7b81b33",
   "metadata": {
    "execution": {
     "iopub.execute_input": "2024-07-02T11:59:54.695442Z",
     "iopub.status.busy": "2024-07-02T11:59:54.694891Z",
     "iopub.status.idle": "2024-07-02T11:59:54.706913Z",
     "shell.execute_reply": "2024-07-02T11:59:54.705484Z"
    },
    "papermill": {
     "duration": 0.050683,
     "end_time": "2024-07-02T11:59:54.709965",
     "exception": false,
     "start_time": "2024-07-02T11:59:54.659282",
     "status": "completed"
    },
    "tags": []
   },
   "outputs": [],
   "source": [
    "Books['Month'] = Books['Month'].astype(str)\n",
    "Books['Payment Method'] = Books['Payment Method'].astype(str)\n",
    "Books['Order Status'] = Books['Order Status'].astype(str)"
   ]
  },
  {
   "cell_type": "code",
   "execution_count": 39,
   "id": "1a3ad975",
   "metadata": {
    "execution": {
     "iopub.execute_input": "2024-07-02T11:59:54.785619Z",
     "iopub.status.busy": "2024-07-02T11:59:54.784799Z",
     "iopub.status.idle": "2024-07-02T11:59:55.069720Z",
     "shell.execute_reply": "2024-07-02T11:59:55.068209Z"
    },
    "papermill": {
     "duration": 0.328245,
     "end_time": "2024-07-02T11:59:55.072663",
     "exception": false,
     "start_time": "2024-07-02T11:59:54.744418",
     "status": "completed"
    },
    "tags": []
   },
   "outputs": [
    {
     "data": {
      "text/plain": [
       "<Axes: >"
      ]
     },
     "execution_count": 39,
     "metadata": {},
     "output_type": "execute_result"
    },
    {
     "data": {
      "image/png": "[encoded data removed]",
      "text/plain": [
       "<Figure size 640x480 with 1 Axes>"
      ]
     },
     "metadata": {},
     "output_type": "display_data"
    }
   ],
   "source": [
    "Books['Total items'].plot(kind='box')"
   ]
  },
  {
   "cell_type": "code",
   "execution_count": 40,
   "id": "03341108",
   "metadata": {
    "execution": {
     "iopub.execute_input": "2024-07-02T11:59:55.145279Z",
     "iopub.status.busy": "2024-07-02T11:59:55.144723Z",
     "iopub.status.idle": "2024-07-02T11:59:55.159367Z",
     "shell.execute_reply": "2024-07-02T11:59:55.158069Z"
    },
    "papermill": {
     "duration": 0.054988,
     "end_time": "2024-07-02T11:59:55.162682",
     "exception": false,
     "start_time": "2024-07-02T11:59:55.107694",
     "status": "completed"
    },
    "tags": []
   },
   "outputs": [
    {
     "data": {
      "text/plain": [
       "count    19239.000000\n",
       "mean         6.051874\n",
       "std        576.938452\n",
       "min          0.000000\n",
       "25%          1.000000\n",
       "50%          1.000000\n",
       "75%          1.000000\n",
       "max      80022.000000\n",
       "Name: Total items, dtype: float64"
      ]
     },
     "execution_count": 40,
     "metadata": {},
     "output_type": "execute_result"
    }
   ],
   "source": [
    "Books['Total items'].describe()"
   ]
  },
  {
   "cell_type": "code",
   "execution_count": 41,
   "id": "12fbb899",
   "metadata": {
    "execution": {
     "iopub.execute_input": "2024-07-02T11:59:55.243021Z",
     "iopub.status.busy": "2024-07-02T11:59:55.242501Z",
     "iopub.status.idle": "2024-07-02T11:59:55.266276Z",
     "shell.execute_reply": "2024-07-02T11:59:55.264810Z"
    },
    "papermill": {
     "duration": 0.064808,
     "end_time": "2024-07-02T11:59:55.269301",
     "exception": false,
     "start_time": "2024-07-02T11:59:55.204493",
     "status": "completed"
    },
    "tags": []
   },
   "outputs": [
    {
     "data": {
      "text/html": [
       "<div>\n",
       "<style scoped>\n",
       "    .dataframe tbody tr th:only-of-type {\n",
       "        vertical-align: middle;\n",
       "    }\n",
       "\n",
       "    .dataframe tbody tr th {\n",
       "        vertical-align: top;\n",
       "    }\n",
       "\n",
       "    .dataframe thead th {\n",
       "        text-align: right;\n",
       "    }\n",
       "</style>\n",
       "<table border=\"1\" class=\"dataframe\">\n",
       "  <thead>\n",
       "    <tr style=\"text-align: right;\">\n",
       "      <th></th>\n",
       "      <th>Order Number</th>\n",
       "      <th>Order Status</th>\n",
       "      <th>Book Name</th>\n",
       "      <th>Order Date &amp; Time</th>\n",
       "      <th>City</th>\n",
       "      <th>Payment Method</th>\n",
       "      <th>Total items</th>\n",
       "      <th>Total weight (grams)</th>\n",
       "      <th>Year</th>\n",
       "      <th>Month</th>\n",
       "      <th>Day</th>\n",
       "    </tr>\n",
       "  </thead>\n",
       "  <tbody>\n",
       "    <tr>\n",
       "      <th>15981</th>\n",
       "      <td>66499</td>\n",
       "      <td>Returned</td>\n",
       "      <td>انٹرنیٹ سے پیسہ کمائیں</td>\n",
       "      <td>2020-12-27 01:37:00</td>\n",
       "      <td>City</td>\n",
       "      <td>EasyPaisa</td>\n",
       "      <td>80022</td>\n",
       "      <td>200.0</td>\n",
       "      <td>2020</td>\n",
       "      <td>Dec</td>\n",
       "      <td>Sunday</td>\n",
       "    </tr>\n",
       "  </tbody>\n",
       "</table>\n",
       "</div>"
      ],
      "text/plain": [
       "       Order Number Order Status               Book Name   Order Date & Time  \\\n",
       "15981         66499     Returned  انٹرنیٹ سے پیسہ کمائیں 2020-12-27 01:37:00   \n",
       "\n",
       "       City Payment Method  Total items  Total weight (grams)  Year Month  \\\n",
       "15981  City      EasyPaisa        80022                 200.0  2020   Dec   \n",
       "\n",
       "          Day  \n",
       "15981  Sunday  "
      ]
     },
     "execution_count": 41,
     "metadata": {},
     "output_type": "execute_result"
    }
   ],
   "source": [
    "Books[Books['Total items']==80022.000000]"
   ]
  },
  {
   "cell_type": "code",
   "execution_count": 42,
   "id": "55c00b67",
   "metadata": {
    "execution": {
     "iopub.execute_input": "2024-07-02T11:59:55.347398Z",
     "iopub.status.busy": "2024-07-02T11:59:55.346845Z",
     "iopub.status.idle": "2024-07-02T11:59:55.359542Z",
     "shell.execute_reply": "2024-07-02T11:59:55.358429Z"
    },
    "papermill": {
     "duration": 0.052036,
     "end_time": "2024-07-02T11:59:55.362490",
     "exception": false,
     "start_time": "2024-07-02T11:59:55.310454",
     "status": "completed"
    },
    "tags": []
   },
   "outputs": [],
   "source": [
    "Books.drop(15981,inplace=True)"
   ]
  },
  {
   "cell_type": "code",
   "execution_count": 43,
   "id": "a1b2c53e",
   "metadata": {
    "execution": {
     "iopub.execute_input": "2024-07-02T11:59:55.434241Z",
     "iopub.status.busy": "2024-07-02T11:59:55.433720Z",
     "iopub.status.idle": "2024-07-02T11:59:55.450401Z",
     "shell.execute_reply": "2024-07-02T11:59:55.449044Z"
    },
    "papermill": {
     "duration": 0.056498,
     "end_time": "2024-07-02T11:59:55.453049",
     "exception": false,
     "start_time": "2024-07-02T11:59:55.396551",
     "status": "completed"
    },
    "tags": []
   },
   "outputs": [
    {
     "data": {
      "text/html": [
       "<div>\n",
       "<style scoped>\n",
       "    .dataframe tbody tr th:only-of-type {\n",
       "        vertical-align: middle;\n",
       "    }\n",
       "\n",
       "    .dataframe tbody tr th {\n",
       "        vertical-align: top;\n",
       "    }\n",
       "\n",
       "    .dataframe thead th {\n",
       "        text-align: right;\n",
       "    }\n",
       "</style>\n",
       "<table border=\"1\" class=\"dataframe\">\n",
       "  <thead>\n",
       "    <tr style=\"text-align: right;\">\n",
       "      <th></th>\n",
       "      <th>Order Number</th>\n",
       "      <th>Order Status</th>\n",
       "      <th>Book Name</th>\n",
       "      <th>Order Date &amp; Time</th>\n",
       "      <th>City</th>\n",
       "      <th>Payment Method</th>\n",
       "      <th>Total items</th>\n",
       "      <th>Total weight (grams)</th>\n",
       "      <th>Year</th>\n",
       "      <th>Month</th>\n",
       "      <th>Day</th>\n",
       "    </tr>\n",
       "  </thead>\n",
       "  <tbody>\n",
       "  </tbody>\n",
       "</table>\n",
       "</div>"
      ],
      "text/plain": [
       "Empty DataFrame\n",
       "Columns: [Order Number, Order Status, Book Name, Order Date & Time, City, Payment Method, Total items, Total weight (grams), Year, Month, Day]\n",
       "Index: []"
      ]
     },
     "execution_count": 43,
     "metadata": {},
     "output_type": "execute_result"
    }
   ],
   "source": [
    "Books[Books['Total items']==80022.000000]"
   ]
  },
  {
   "cell_type": "markdown",
   "id": "348642db",
   "metadata": {
    "papermill": {
     "duration": 0.035018,
     "end_time": "2024-07-02T11:59:55.522968",
     "exception": false,
     "start_time": "2024-07-02T11:59:55.487950",
     "status": "completed"
    },
    "tags": []
   },
   "source": [
    "**Accuracy**\n",
    "- Weight: Should be in proper whole number format (float)"
   ]
  },
  {
   "cell_type": "code",
   "execution_count": 44,
   "id": "9ece47e2",
   "metadata": {
    "execution": {
     "iopub.execute_input": "2024-07-02T11:59:55.595510Z",
     "iopub.status.busy": "2024-07-02T11:59:55.594895Z",
     "iopub.status.idle": "2024-07-02T11:59:55.604154Z",
     "shell.execute_reply": "2024-07-02T11:59:55.602725Z"
    },
    "papermill": {
     "duration": 0.047868,
     "end_time": "2024-07-02T11:59:55.606824",
     "exception": false,
     "start_time": "2024-07-02T11:59:55.558956",
     "status": "completed"
    },
    "tags": []
   },
   "outputs": [
    {
     "data": {
      "text/plain": [
       "dtype('float64')"
      ]
     },
     "execution_count": 44,
     "metadata": {},
     "output_type": "execute_result"
    }
   ],
   "source": [
    "Books['Total weight (grams)'].dtype"
   ]
  },
  {
   "cell_type": "code",
   "execution_count": 45,
   "id": "8678c672",
   "metadata": {
    "execution": {
     "iopub.execute_input": "2024-07-02T11:59:55.677030Z",
     "iopub.status.busy": "2024-07-02T11:59:55.676604Z",
     "iopub.status.idle": "2024-07-02T11:59:55.683923Z",
     "shell.execute_reply": "2024-07-02T11:59:55.682591Z"
    },
    "papermill": {
     "duration": 0.045169,
     "end_time": "2024-07-02T11:59:55.686620",
     "exception": false,
     "start_time": "2024-07-02T11:59:55.641451",
     "status": "completed"
    },
    "tags": []
   },
   "outputs": [],
   "source": [
    "Books['Total weight (grams)']=Books['Total weight (grams)'].astype('int64')"
   ]
  },
  {
   "cell_type": "code",
   "execution_count": 46,
   "id": "8021b26f",
   "metadata": {
    "execution": {
     "iopub.execute_input": "2024-07-02T11:59:55.758167Z",
     "iopub.status.busy": "2024-07-02T11:59:55.757674Z",
     "iopub.status.idle": "2024-07-02T11:59:55.765329Z",
     "shell.execute_reply": "2024-07-02T11:59:55.764070Z"
    },
    "papermill": {
     "duration": 0.045339,
     "end_time": "2024-07-02T11:59:55.767744",
     "exception": false,
     "start_time": "2024-07-02T11:59:55.722405",
     "status": "completed"
    },
    "tags": []
   },
   "outputs": [
    {
     "data": {
      "text/plain": [
       "dtype('int64')"
      ]
     },
     "execution_count": 46,
     "metadata": {},
     "output_type": "execute_result"
    }
   ],
   "source": [
    "Books['Total weight (grams)'].dtype"
   ]
  },
  {
   "cell_type": "markdown",
   "id": "af09c2fc",
   "metadata": {
    "papermill": {
     "duration": 0.033733,
     "end_time": "2024-07-02T11:59:55.835629",
     "exception": false,
     "start_time": "2024-07-02T11:59:55.801896",
     "status": "completed"
    },
    "tags": []
   },
   "source": [
    "Consistency:\n",
    "- Payment Method: Same type but written differently\n",
    "\n",
    "- City: Same name but written differently (e.g., \"Sadiqabad\" as \"Sadiq abad\", \"Lahore\" as \"lahore\")"
   ]
  },
  {
   "cell_type": "code",
   "execution_count": 47,
   "id": "d2646136",
   "metadata": {
    "execution": {
     "iopub.execute_input": "2024-07-02T11:59:55.905367Z",
     "iopub.status.busy": "2024-07-02T11:59:55.904914Z",
     "iopub.status.idle": "2024-07-02T11:59:55.921588Z",
     "shell.execute_reply": "2024-07-02T11:59:55.919689Z"
    },
    "papermill": {
     "duration": 0.054741,
     "end_time": "2024-07-02T11:59:55.924428",
     "exception": false,
     "start_time": "2024-07-02T11:59:55.869687",
     "status": "completed"
    },
    "tags": []
   },
   "outputs": [
    {
     "data": {
      "text/plain": [
       "Payment Method\n",
       "Cash on delivery          17470\n",
       "EasyPaisa                   696\n",
       "JazzCash                    596\n",
       "BankTransfer                459\n",
       "M                            10\n",
       "Cash on Delivery (COD)        7\n",
       "Name: count, dtype: int64"
      ]
     },
     "execution_count": 47,
     "metadata": {},
     "output_type": "execute_result"
    }
   ],
   "source": [
    "Books['Payment Method'].value_counts()"
   ]
  },
  {
   "cell_type": "code",
   "execution_count": 48,
   "id": "79731307",
   "metadata": {
    "execution": {
     "iopub.execute_input": "2024-07-02T11:59:55.998429Z",
     "iopub.status.busy": "2024-07-02T11:59:55.998006Z",
     "iopub.status.idle": "2024-07-02T11:59:56.010989Z",
     "shell.execute_reply": "2024-07-02T11:59:56.009959Z"
    },
    "papermill": {
     "duration": 0.052182,
     "end_time": "2024-07-02T11:59:56.013649",
     "exception": false,
     "start_time": "2024-07-02T11:59:55.961467",
     "status": "completed"
    },
    "tags": []
   },
   "outputs": [],
   "source": [
    "Books['Payment Method'] = Books['Payment Method'].replace({'Cash on Delivery (COD)': 'COD', 'Cash on delivery': 'COD'})"
   ]
  },
  {
   "cell_type": "code",
   "execution_count": 49,
   "id": "0b2e5917",
   "metadata": {
    "execution": {
     "iopub.execute_input": "2024-07-02T11:59:56.085325Z",
     "iopub.status.busy": "2024-07-02T11:59:56.084915Z",
     "iopub.status.idle": "2024-07-02T11:59:56.098708Z",
     "shell.execute_reply": "2024-07-02T11:59:56.097384Z"
    },
    "papermill": {
     "duration": 0.053691,
     "end_time": "2024-07-02T11:59:56.101692",
     "exception": false,
     "start_time": "2024-07-02T11:59:56.048001",
     "status": "completed"
    },
    "tags": []
   },
   "outputs": [
    {
     "data": {
      "text/plain": [
       "Payment Method\n",
       "COD             17477\n",
       "EasyPaisa         696\n",
       "JazzCash          596\n",
       "BankTransfer      459\n",
       "M                  10\n",
       "Name: count, dtype: int64"
      ]
     },
     "execution_count": 49,
     "metadata": {},
     "output_type": "execute_result"
    }
   ],
   "source": [
    "Books['Payment Method'].value_counts()"
   ]
  },
  {
   "cell_type": "code",
   "execution_count": 50,
   "id": "cd42bf07",
   "metadata": {
    "execution": {
     "iopub.execute_input": "2024-07-02T11:59:56.176262Z",
     "iopub.status.busy": "2024-07-02T11:59:56.175773Z",
     "iopub.status.idle": "2024-07-02T11:59:56.185979Z",
     "shell.execute_reply": "2024-07-02T11:59:56.184733Z"
    },
    "papermill": {
     "duration": 0.051468,
     "end_time": "2024-07-02T11:59:56.188885",
     "exception": false,
     "start_time": "2024-07-02T11:59:56.137417",
     "status": "completed"
    },
    "tags": []
   },
   "outputs": [
    {
     "data": {
      "text/plain": [
       "2278                                              Peshawar\n",
       "5070                                               Karachi\n",
       "7989                                            Abbottabad\n",
       "12150                                             Peshawar\n",
       "9290                                               Sialkot\n",
       "16805    Narang Mandi, Tehsil Muridkey, District Sheiku...\n",
       "12924                                           Rawalpindi\n",
       "1654                                               Karachi\n",
       "5207                              JAMSHED ROAD#3 , KARACHI\n",
       "228                                                 Lahore\n",
       "Name: City, dtype: object"
      ]
     },
     "execution_count": 50,
     "metadata": {},
     "output_type": "execute_result"
    }
   ],
   "source": [
    "Books['City'].sample(10)"
   ]
  },
  {
   "cell_type": "code",
   "execution_count": 51,
   "id": "139ffd53",
   "metadata": {
    "execution": {
     "iopub.execute_input": "2024-07-02T11:59:56.264455Z",
     "iopub.status.busy": "2024-07-02T11:59:56.263998Z",
     "iopub.status.idle": "2024-07-02T11:59:56.313948Z",
     "shell.execute_reply": "2024-07-02T11:59:56.312714Z"
    },
    "papermill": {
     "duration": 0.091277,
     "end_time": "2024-07-02T11:59:56.316902",
     "exception": false,
     "start_time": "2024-07-02T11:59:56.225625",
     "status": "completed"
    },
    "tags": []
   },
   "outputs": [],
   "source": [
    "import re\n",
    "\n",
    "# Apply a lambda function to remove non-alphabet characters from the \"City\" column\n",
    "Books[\"City\"] = Books[\"City\"].apply(lambda x: re.sub(r'[^a-zA-Z ]', ' ', str(x)))"
   ]
  },
  {
   "cell_type": "code",
   "execution_count": 52,
   "id": "8c459011",
   "metadata": {
    "execution": {
     "iopub.execute_input": "2024-07-02T11:59:56.392025Z",
     "iopub.status.busy": "2024-07-02T11:59:56.391644Z",
     "iopub.status.idle": "2024-07-02T11:59:56.407368Z",
     "shell.execute_reply": "2024-07-02T11:59:56.406015Z"
    },
    "papermill": {
     "duration": 0.056196,
     "end_time": "2024-07-02T11:59:56.410151",
     "exception": false,
     "start_time": "2024-07-02T11:59:56.353955",
     "status": "completed"
    },
    "tags": []
   },
   "outputs": [],
   "source": [
    "cities = [\"karachi\", \"lahore\", \"multan\", \"faisalabad\", \"islamabad\", \"rawalpindi\", \"sialkot\",\n",
    "    \"kashmir\", \"jacobabad\", \"mianwali\", \"nawabshah\", \"sargodha\", \"quetta\", \"peshawar\", \n",
    "    \"gujranwala\", \"bahawalpur\", \"sukkur\", \"sheikhupura\", \"rahimyar khan\", \"jhang\", \n",
    "    \"gujrat\", \"sahiwal\", \"attock\", \"dera ismail khan\", \"muzaffarabad\", \"mirpur\", \n",
    "    \"kohat\", \"saddar\", \"bannu\", \"kamoke\", \"mandi bahauddin\", \"wah\", \"dera ghazi khan\", \n",
    "    \"kasur\", \"okara\", \"chiniot\", \"kandhkot\", \"khuzdar\", \"daska\", \"dera murad jamali\", \n",
    "    \"gujar khan\", \"mardan\", \"chaman\", \"jalalpur\", \"hafizabad\", \"sadiqabad\", \n",
    "    \"burewala\", \"jacobabad\", \"sialkot\", \"sukkur\", \"rohri\", \"jhelum\", \"ahmedpur east\", \n",
    "    \"kamalia\", \"hyderabad\", \"nawabshah\", \"dadu\", \"larkana\", \"khairpur\", \"jacobabad\", \n",
    "    \"sukkur\", \"peshawar\", \"abbottabad\", \"mardan\", \"bannu\", \"swabi\", \"nowshera\", \n",
    "    \"charsadda\", \"muzaffargarh\", \"layyah\", \"dera ghazi khan\", \"bahawalnagar\", \n",
    "    \"bhakkar\", \"sahiwal\", \"bahawalpur\", \"jhang\", \"toba tek singh\", \"chiniot\", \n",
    "    \"rahimyar khan\", \"sukkur\", \"larkana\", \"shikarpur\", \"jacobabad\", \"khairpur\", \n",
    "    \"sadiqabad\", \"mirpur khas\", \"umpire\", \"gawadar\", \"qalat\", \"khuzdar\", \"gakuch\", \"skardu\", \"gilgit\", \"hunza\", \"nagar\", \"abbottabad\", \"mansehra\", \n",
    "    \"haripur\", \"batagram\", \"karak\", \"kohat\", \"bannu\", \"dera ismail khan\", \"tank\", \n",
    "    \"peshawar\", \"nowshera\", \"charsadda\", \"mardan\", \"swabi\", \"abbottabad\", \"hazara\", \n",
    "    \"rawalakot\", \"muzaffarabad\", \"mirpur\", \"bhimber\", \"ajk\", \"sanghar\", \"swat\", \"ghotki\", \"chitral\",\n",
    "    \"taxila\", \"malakand\", \"chakwal\", \"rahim yar khan\", \"toba tek singh\", \"dera ghazi khan\", \"mingora\",\n",
    "    \"abu dhabi\", \"dubai\", \"riyadh\"]"
   ]
  },
  {
   "cell_type": "code",
   "execution_count": 53,
   "id": "a018ef36",
   "metadata": {
    "execution": {
     "iopub.execute_input": "2024-07-02T11:59:56.483323Z",
     "iopub.status.busy": "2024-07-02T11:59:56.482914Z",
     "iopub.status.idle": "2024-07-02T11:59:56.654729Z",
     "shell.execute_reply": "2024-07-02T11:59:56.653625Z"
    },
    "papermill": {
     "duration": 0.212339,
     "end_time": "2024-07-02T11:59:56.657439",
     "exception": false,
     "start_time": "2024-07-02T11:59:56.445100",
     "status": "completed"
    },
    "tags": []
   },
   "outputs": [],
   "source": [
    "def map_city(city):\n",
    "    return next((c for c in cities if city.lower() in c), city)\n",
    "\n",
    "Books[\"City\"] = Books[\"City\"].apply(map_city)"
   ]
  },
  {
   "cell_type": "code",
   "execution_count": 54,
   "id": "5b314cd2",
   "metadata": {
    "execution": {
     "iopub.execute_input": "2024-07-02T11:59:56.731274Z",
     "iopub.status.busy": "2024-07-02T11:59:56.730859Z",
     "iopub.status.idle": "2024-07-02T12:00:01.813646Z",
     "shell.execute_reply": "2024-07-02T12:00:01.812453Z"
    },
    "papermill": {
     "duration": 5.124185,
     "end_time": "2024-07-02T12:00:01.816543",
     "exception": false,
     "start_time": "2024-07-02T11:59:56.692358",
     "status": "completed"
    },
    "tags": []
   },
   "outputs": [],
   "source": [
    "for i, val in enumerate(Books['City']):\n",
    "    val_upper = val[0].upper()+ val[1:] \n",
    "    if val_upper == 'Sadiq abad' or val_upper == 'Sadiq Abad':\n",
    "        Books.loc[i, 'City'] = 'Sadiqabad'  \n",
    "    elif 'Sadiq abad' in val_upper:\n",
    "        idx = val_upper.index('Sadiq abad')\n",
    "        Books.loc[i, 'City'] = val[:idx] + 'Sadiqabad' + val[idx+len('Sadiq abad'):]\n",
    "    elif 'Sadiq Abad' in val_upper:\n",
    "        idx = val_upper.index('Sadiq Abad')\n",
    "        Books.loc[i, 'City'] = val[:idx] + 'Sadiqabad' + val[idx+len('Sadiq Abad'):]\n",
    "    else:\n",
    "        Books.loc[i, 'City'] = val_upper \n"
   ]
  },
  {
   "cell_type": "markdown",
   "id": "82f9d62a",
   "metadata": {
    "papermill": {
     "duration": 0.04328,
     "end_time": "2024-07-02T12:00:01.904003",
     "exception": false,
     "start_time": "2024-07-02T12:00:01.860723",
     "status": "completed"
    },
    "tags": []
   },
   "source": [
    "First, I capitalize the first letter of each city name. Then, I check if the city name is \"Sadiq abad\" or \"Sadiq Abad\" and convert it to \"Sadiqabad.\" "
   ]
  },
  {
   "cell_type": "code",
   "execution_count": 55,
   "id": "fcb10d4e",
   "metadata": {
    "execution": {
     "iopub.execute_input": "2024-07-02T12:00:02.001507Z",
     "iopub.status.busy": "2024-07-02T12:00:01.999962Z",
     "iopub.status.idle": "2024-07-02T12:00:02.036425Z",
     "shell.execute_reply": "2024-07-02T12:00:02.034053Z"
    },
    "papermill": {
     "duration": 0.096148,
     "end_time": "2024-07-02T12:00:02.041696",
     "exception": false,
     "start_time": "2024-07-02T12:00:01.945548",
     "status": "completed"
    },
    "tags": []
   },
   "outputs": [
    {
     "data": {
      "text/html": [
       "<div>\n",
       "<style scoped>\n",
       "    .dataframe tbody tr th:only-of-type {\n",
       "        vertical-align: middle;\n",
       "    }\n",
       "\n",
       "    .dataframe tbody tr th {\n",
       "        vertical-align: top;\n",
       "    }\n",
       "\n",
       "    .dataframe thead th {\n",
       "        text-align: right;\n",
       "    }\n",
       "</style>\n",
       "<table border=\"1\" class=\"dataframe\">\n",
       "  <thead>\n",
       "    <tr style=\"text-align: right;\">\n",
       "      <th></th>\n",
       "      <th>Order Number</th>\n",
       "      <th>Order Status</th>\n",
       "      <th>Book Name</th>\n",
       "      <th>Order Date &amp; Time</th>\n",
       "      <th>City</th>\n",
       "      <th>Payment Method</th>\n",
       "      <th>Total items</th>\n",
       "      <th>Total weight (grams)</th>\n",
       "      <th>Year</th>\n",
       "      <th>Month</th>\n",
       "      <th>Day</th>\n",
       "    </tr>\n",
       "  </thead>\n",
       "  <tbody>\n",
       "  </tbody>\n",
       "</table>\n",
       "</div>"
      ],
      "text/plain": [
       "Empty DataFrame\n",
       "Columns: [Order Number, Order Status, Book Name, Order Date & Time, City, Payment Method, Total items, Total weight (grams), Year, Month, Day]\n",
       "Index: []"
      ]
     },
     "execution_count": 55,
     "metadata": {},
     "output_type": "execute_result"
    }
   ],
   "source": [
    "Books[Books['City'].str.startswith('Sadiq ')]"
   ]
  },
  {
   "cell_type": "code",
   "execution_count": 56,
   "id": "f00c979f",
   "metadata": {
    "execution": {
     "iopub.execute_input": "2024-07-02T12:00:02.124871Z",
     "iopub.status.busy": "2024-07-02T12:00:02.124413Z",
     "iopub.status.idle": "2024-07-02T12:00:02.143029Z",
     "shell.execute_reply": "2024-07-02T12:00:02.141226Z"
    },
    "papermill": {
     "duration": 0.065633,
     "end_time": "2024-07-02T12:00:02.146199",
     "exception": false,
     "start_time": "2024-07-02T12:00:02.080566",
     "status": "completed"
    },
    "tags": []
   },
   "outputs": [
    {
     "data": {
      "text/plain": [
       "City\n",
       "Karachi                                                                       2332\n",
       "Lahore                                                                        1993\n",
       "Islamabad                                                                      859\n",
       "Rawalpindi                                                                     645\n",
       "Faisalabad                                                                     478\n",
       "                                                                              ... \n",
       "Distt.Rahim Yar Khan                                                             1\n",
       "MAJID IQBAL SATTI PLOT # 150, SECTOR # 23 KORANGI INDUATRIAL AREA KARACHI.       1\n",
       "Gulberg 3 Lahore                                                                 1\n",
       "Sadat Pur Rehlein P /O Retra                                                     1\n",
       "Mailsi, district Vehari                                                          1\n",
       "Name: count, Length: 4163, dtype: int64"
      ]
     },
     "execution_count": 56,
     "metadata": {},
     "output_type": "execute_result"
    }
   ],
   "source": [
    "orders['City'].value_counts()"
   ]
  },
  {
   "cell_type": "code",
   "execution_count": 57,
   "id": "5ffec5f6",
   "metadata": {
    "execution": {
     "iopub.execute_input": "2024-07-02T12:00:02.226435Z",
     "iopub.status.busy": "2024-07-02T12:00:02.225685Z",
     "iopub.status.idle": "2024-07-02T12:00:02.246525Z",
     "shell.execute_reply": "2024-07-02T12:00:02.244760Z"
    },
    "papermill": {
     "duration": 0.06541,
     "end_time": "2024-07-02T12:00:02.250010",
     "exception": false,
     "start_time": "2024-07-02T12:00:02.184600",
     "status": "completed"
    },
    "tags": []
   },
   "outputs": [
    {
     "data": {
      "text/plain": [
       "City\n",
       "Karachi                                                   2686\n",
       "Lahore                                                    2190\n",
       "Islamabad                                                  947\n",
       "Rawalpindi                                                 699\n",
       "Faisalabad                                                 525\n",
       "                                                          ... \n",
       "Thana Bula Khan                                              1\n",
       "Mandi bhuddin Punjab Pakistan                                1\n",
       "Azizabad  khi                                                1\n",
       "Qayoum abad B area Madrasa iqra shamshi Mubeen karachi       1\n",
       "lahore                                                       1\n",
       "Name: count, Length: 3709, dtype: int64"
      ]
     },
     "execution_count": 57,
     "metadata": {},
     "output_type": "execute_result"
    }
   ],
   "source": [
    "Books['City'].value_counts()"
   ]
  },
  {
   "cell_type": "markdown",
   "id": "5793f53a",
   "metadata": {
    "papermill": {
     "duration": 0.037465,
     "end_time": "2024-07-02T12:00:02.328830",
     "exception": false,
     "start_time": "2024-07-02T12:00:02.291365",
     "status": "completed"
    },
    "tags": []
   },
   "source": [
    "## Data Visualization: Graphs and Analysis"
   ]
  },
  {
   "cell_type": "markdown",
   "id": "2ad8ab46",
   "metadata": {
    "papermill": {
     "duration": 0.036716,
     "end_time": "2024-07-02T12:00:02.404212",
     "exception": false,
     "start_time": "2024-07-02T12:00:02.367496",
     "status": "completed"
    },
    "tags": []
   },
   "source": [
    "### Univariate analysis"
   ]
  },
  {
   "cell_type": "markdown",
   "id": "eb22734e",
   "metadata": {
    "papermill": {
     "duration": 0.03607,
     "end_time": "2024-07-02T12:00:02.475580",
     "exception": false,
     "start_time": "2024-07-02T12:00:02.439510",
     "status": "completed"
    },
    "tags": []
   },
   "source": [
    "## Books order Status"
   ]
  },
  {
   "cell_type": "code",
   "execution_count": 58,
   "id": "461283ad",
   "metadata": {
    "execution": {
     "iopub.execute_input": "2024-07-02T12:00:02.548518Z",
     "iopub.status.busy": "2024-07-02T12:00:02.548028Z",
     "iopub.status.idle": "2024-07-02T12:00:02.756577Z",
     "shell.execute_reply": "2024-07-02T12:00:02.754183Z"
    },
    "papermill": {
     "duration": 0.250907,
     "end_time": "2024-07-02T12:00:02.761638",
     "exception": false,
     "start_time": "2024-07-02T12:00:02.510731",
     "status": "completed"
    },
    "tags": []
   },
   "outputs": [
    {
     "data": {
      "image/png": "[encoded data removed]",
      "text/plain": [
       "<Figure size 640x480 with 1 Axes>"
      ]
     },
     "metadata": {},
     "output_type": "display_data"
    }
   ],
   "source": [
    "Books['Order Status'].value_counts().plot(kind='pie',autopct=\"%0.1f%%\",explode=[0,0.2,0.2])\n",
    "plt.title(\"Books order Status\")\n",
    "plt.show()"
   ]
  },
  {
   "cell_type": "markdown",
   "id": "fa8d5473",
   "metadata": {
    "papermill": {
     "duration": 0.036556,
     "end_time": "2024-07-02T12:00:02.853752",
     "exception": false,
     "start_time": "2024-07-02T12:00:02.817196",
     "status": "completed"
    },
    "tags": []
   },
   "source": [
    "## best-selling book"
   ]
  },
  {
   "cell_type": "code",
   "execution_count": 59,
   "id": "7251727e",
   "metadata": {
    "execution": {
     "iopub.execute_input": "2024-07-02T12:00:02.928675Z",
     "iopub.status.busy": "2024-07-02T12:00:02.928244Z",
     "iopub.status.idle": "2024-07-02T12:00:02.951640Z",
     "shell.execute_reply": "2024-07-02T12:00:02.950478Z"
    },
    "papermill": {
     "duration": 0.063301,
     "end_time": "2024-07-02T12:00:02.954346",
     "exception": false,
     "start_time": "2024-07-02T12:00:02.891045",
     "status": "completed"
    },
    "tags": []
   },
   "outputs": [
    {
     "data": {
      "text/html": [
       "<div>\n",
       "<style scoped>\n",
       "    .dataframe tbody tr th:only-of-type {\n",
       "        vertical-align: middle;\n",
       "    }\n",
       "\n",
       "    .dataframe tbody tr th {\n",
       "        vertical-align: top;\n",
       "    }\n",
       "\n",
       "    .dataframe thead th {\n",
       "        text-align: right;\n",
       "    }\n",
       "</style>\n",
       "<table border=\"1\" class=\"dataframe\">\n",
       "  <thead>\n",
       "    <tr style=\"text-align: right;\">\n",
       "      <th></th>\n",
       "      <th>Books Name</th>\n",
       "      <th>count</th>\n",
       "    </tr>\n",
       "  </thead>\n",
       "  <tbody>\n",
       "    <tr>\n",
       "      <th>0</th>\n",
       "      <td>انٹرنیٹ سے پیسہ کمائیں</td>\n",
       "      <td>3507</td>\n",
       "    </tr>\n",
       "    <tr>\n",
       "      <th>1</th>\n",
       "      <td>Python Programming</td>\n",
       "      <td>2413</td>\n",
       "    </tr>\n",
       "    <tr>\n",
       "      <th>2</th>\n",
       "      <td>Artificial Intelligence</td>\n",
       "      <td>2105</td>\n",
       "    </tr>\n",
       "    <tr>\n",
       "      <th>3</th>\n",
       "      <td>Blockchain, Cryptocurrency And Bitcoin</td>\n",
       "      <td>1906</td>\n",
       "    </tr>\n",
       "    <tr>\n",
       "      <th>4</th>\n",
       "      <td>Product Management</td>\n",
       "      <td>1553</td>\n",
       "    </tr>\n",
       "  </tbody>\n",
       "</table>\n",
       "</div>"
      ],
      "text/plain": [
       "                               Books Name  count\n",
       "0                  انٹرنیٹ سے پیسہ کمائیں   3507\n",
       "1                      Python Programming   2413\n",
       "2                 Artificial Intelligence   2105\n",
       "3  Blockchain, Cryptocurrency And Bitcoin   1906\n",
       "4                      Product Management   1553"
      ]
     },
     "execution_count": 59,
     "metadata": {},
     "output_type": "execute_result"
    }
   ],
   "source": [
    "best_selling_books=AllBooks['Books Name'].value_counts(ascending=False).reset_index().head()\n",
    "best_selling_books"
   ]
  },
  {
   "cell_type": "code",
   "execution_count": 60,
   "id": "093cec69",
   "metadata": {
    "execution": {
     "iopub.execute_input": "2024-07-02T12:00:03.029993Z",
     "iopub.status.busy": "2024-07-02T12:00:03.029568Z",
     "iopub.status.idle": "2024-07-02T12:00:03.361339Z",
     "shell.execute_reply": "2024-07-02T12:00:03.359827Z"
    },
    "papermill": {
     "duration": 0.372849,
     "end_time": "2024-07-02T12:00:03.364007",
     "exception": false,
     "start_time": "2024-07-02T12:00:02.991158",
     "status": "completed"
    },
    "tags": []
   },
   "outputs": [
    {
     "name": "stderr",
     "output_type": "stream",
     "text": [
      "/opt/conda/lib/python3.10/site-packages/IPython/core/pylabtools.py:152: UserWarning: Glyph 1746 (\\N{ARABIC LETTER YEH BARREE}) missing from current font.\n",
      "  fig.canvas.print_figure(bytes_io, **kw)\n",
      "/opt/conda/lib/python3.10/site-packages/IPython/core/pylabtools.py:152: UserWarning: Matplotlib currently does not support Arabic natively.\n",
      "  fig.canvas.print_figure(bytes_io, **kw)\n",
      "/opt/conda/lib/python3.10/site-packages/IPython/core/pylabtools.py:152: UserWarning: Glyph 1729 (\\N{ARABIC LETTER HEH GOAL}) missing from current font.\n",
      "  fig.canvas.print_figure(bytes_io, **kw)\n"
     ]
    },
    {
     "data": {
      "image/png": "[encoded data removed]",
      "text/plain": [
       "<Figure size 640x480 with 1 Axes>"
      ]
     },
     "metadata": {},
     "output_type": "display_data"
    }
   ],
   "source": [
    "plt.barh(best_selling_books['Books Name'], best_selling_books['count'])\n",
    "plt.xlabel('No of Orders')\n",
    "plt.ylabel('Books')\n",
    "plt.title('Top Books by Order Count')\n",
    "plt.show()"
   ]
  },
  {
   "cell_type": "code",
   "execution_count": 61,
   "id": "11166144",
   "metadata": {
    "execution": {
     "iopub.execute_input": "2024-07-02T12:00:03.444290Z",
     "iopub.status.busy": "2024-07-02T12:00:03.443849Z",
     "iopub.status.idle": "2024-07-02T12:00:03.463336Z",
     "shell.execute_reply": "2024-07-02T12:00:03.461486Z"
    },
    "papermill": {
     "duration": 0.063902,
     "end_time": "2024-07-02T12:00:03.466386",
     "exception": false,
     "start_time": "2024-07-02T12:00:03.402484",
     "status": "completed"
    },
    "tags": []
   },
   "outputs": [
    {
     "data": {
      "text/html": [
       "<div>\n",
       "<style scoped>\n",
       "    .dataframe tbody tr th:only-of-type {\n",
       "        vertical-align: middle;\n",
       "    }\n",
       "\n",
       "    .dataframe tbody tr th {\n",
       "        vertical-align: top;\n",
       "    }\n",
       "\n",
       "    .dataframe thead th {\n",
       "        text-align: right;\n",
       "    }\n",
       "</style>\n",
       "<table border=\"1\" class=\"dataframe\">\n",
       "  <thead>\n",
       "    <tr style=\"text-align: right;\">\n",
       "      <th></th>\n",
       "      <th>City</th>\n",
       "      <th>count</th>\n",
       "    </tr>\n",
       "  </thead>\n",
       "  <tbody>\n",
       "    <tr>\n",
       "      <th>0</th>\n",
       "      <td>Karachi</td>\n",
       "      <td>2686</td>\n",
       "    </tr>\n",
       "    <tr>\n",
       "      <th>1</th>\n",
       "      <td>Lahore</td>\n",
       "      <td>2190</td>\n",
       "    </tr>\n",
       "    <tr>\n",
       "      <th>2</th>\n",
       "      <td>Islamabad</td>\n",
       "      <td>947</td>\n",
       "    </tr>\n",
       "    <tr>\n",
       "      <th>3</th>\n",
       "      <td>Rawalpindi</td>\n",
       "      <td>699</td>\n",
       "    </tr>\n",
       "    <tr>\n",
       "      <th>4</th>\n",
       "      <td>Faisalabad</td>\n",
       "      <td>525</td>\n",
       "    </tr>\n",
       "  </tbody>\n",
       "</table>\n",
       "</div>"
      ],
      "text/plain": [
       "         City  count\n",
       "0     Karachi   2686\n",
       "1      Lahore   2190\n",
       "2   Islamabad    947\n",
       "3  Rawalpindi    699\n",
       "4  Faisalabad    525"
      ]
     },
     "execution_count": 61,
     "metadata": {},
     "output_type": "execute_result"
    }
   ],
   "source": [
    "topCity=Books['City'].value_counts(ascending=False).head(5).reset_index()\n",
    "topCity"
   ]
  },
  {
   "cell_type": "code",
   "execution_count": 62,
   "id": "da957b6f",
   "metadata": {
    "execution": {
     "iopub.execute_input": "2024-07-02T12:00:03.545438Z",
     "iopub.status.busy": "2024-07-02T12:00:03.544975Z",
     "iopub.status.idle": "2024-07-02T12:00:03.825413Z",
     "shell.execute_reply": "2024-07-02T12:00:03.824035Z"
    },
    "papermill": {
     "duration": 0.323132,
     "end_time": "2024-07-02T12:00:03.828243",
     "exception": false,
     "start_time": "2024-07-02T12:00:03.505111",
     "status": "completed"
    },
    "tags": []
   },
   "outputs": [
    {
     "data": {
      "image/png": "[encoded data removed]",
      "text/plain": [
       "<Figure size 640x480 with 1 Axes>"
      ]
     },
     "metadata": {},
     "output_type": "display_data"
    }
   ],
   "source": [
    "plt.barh(topCity['City'], topCity['count'])\n",
    "plt.xlabel('No of Orders')\n",
    "plt.ylabel('City')\n",
    "plt.title('Top Cities by Order Count')\n",
    "plt.show()"
   ]
  },
  {
   "cell_type": "markdown",
   "id": "efd5925b",
   "metadata": {
    "papermill": {
     "duration": 0.038563,
     "end_time": "2024-07-02T12:00:03.904916",
     "exception": false,
     "start_time": "2024-07-02T12:00:03.866353",
     "status": "completed"
    },
    "tags": []
   },
   "source": [
    "## Order Status by Month"
   ]
  },
  {
   "cell_type": "code",
   "execution_count": 63,
   "id": "9a7bec20",
   "metadata": {
    "execution": {
     "iopub.execute_input": "2024-07-02T12:00:03.989416Z",
     "iopub.status.busy": "2024-07-02T12:00:03.988624Z",
     "iopub.status.idle": "2024-07-02T12:00:04.650333Z",
     "shell.execute_reply": "2024-07-02T12:00:04.648618Z"
    },
    "papermill": {
     "duration": 0.710077,
     "end_time": "2024-07-02T12:00:04.653452",
     "exception": false,
     "start_time": "2024-07-02T12:00:03.943375",
     "status": "completed"
    },
    "tags": []
   },
   "outputs": [
    {
     "data": {
      "image/png": "[encoded data removed]",
      "text/plain": [
       "<Figure size 1200x600 with 1 Axes>"
      ]
     },
     "metadata": {},
     "output_type": "display_data"
    }
   ],
   "source": [
    "plt.figure(figsize=(12, 6))\n",
    "sns.countplot(data=Books, x='Month', hue='Order Status')\n",
    "plt.title('Chart of Order Status by Month')\n",
    "plt.xlabel('Month')\n",
    "plt.ylabel('Count')\n",
    "plt.xticks(rotation=45)\n",
    "plt.tight_layout()"
   ]
  },
  {
   "cell_type": "markdown",
   "id": "dc82e4ca",
   "metadata": {
    "papermill": {
     "duration": 0.041581,
     "end_time": "2024-07-02T12:00:04.734605",
     "exception": false,
     "start_time": "2024-07-02T12:00:04.693024",
     "status": "completed"
    },
    "tags": []
   },
   "source": [
    "## Order Status by Year"
   ]
  },
  {
   "cell_type": "code",
   "execution_count": 64,
   "id": "c9b6677d",
   "metadata": {
    "execution": {
     "iopub.execute_input": "2024-07-02T12:00:04.816983Z",
     "iopub.status.busy": "2024-07-02T12:00:04.816528Z",
     "iopub.status.idle": "2024-07-02T12:00:05.263295Z",
     "shell.execute_reply": "2024-07-02T12:00:05.262004Z"
    },
    "papermill": {
     "duration": 0.492951,
     "end_time": "2024-07-02T12:00:05.267305",
     "exception": false,
     "start_time": "2024-07-02T12:00:04.774354",
     "status": "completed"
    },
    "tags": []
   },
   "outputs": [
    {
     "data": {
      "image/png": "[encoded data removed]",
      "text/plain": [
       "<Figure size 1200x600 with 1 Axes>"
      ]
     },
     "metadata": {},
     "output_type": "display_data"
    }
   ],
   "source": [
    "plt.figure(figsize=(12, 6))\n",
    "sns.countplot(data=Books, x='Year', hue='Order Status')\n",
    "plt.title('Chart of Order Status by Year')\n",
    "plt.xlabel('Yeay')\n",
    "plt.ylabel('Count')\n",
    "plt.xticks(rotation=45)\n",
    "plt.tight_layout()"
   ]
  },
  {
   "cell_type": "markdown",
   "id": "68dbefdd",
   "metadata": {
    "papermill": {
     "duration": 0.041384,
     "end_time": "2024-07-02T12:00:05.352295",
     "exception": false,
     "start_time": "2024-07-02T12:00:05.310911",
     "status": "completed"
    },
    "tags": []
   },
   "source": [
    "## Order Status by day"
   ]
  },
  {
   "cell_type": "code",
   "execution_count": 65,
   "id": "06006ad8",
   "metadata": {
    "execution": {
     "iopub.execute_input": "2024-07-02T12:00:05.434900Z",
     "iopub.status.busy": "2024-07-02T12:00:05.434496Z",
     "iopub.status.idle": "2024-07-02T12:00:05.996570Z",
     "shell.execute_reply": "2024-07-02T12:00:05.995070Z"
    },
    "papermill": {
     "duration": 0.6075,
     "end_time": "2024-07-02T12:00:05.999742",
     "exception": false,
     "start_time": "2024-07-02T12:00:05.392242",
     "status": "completed"
    },
    "tags": []
   },
   "outputs": [
    {
     "data": {
      "image/png": "[encoded data removed]",
      "text/plain": [
       "<Figure size 1200x600 with 1 Axes>"
      ]
     },
     "metadata": {},
     "output_type": "display_data"
    }
   ],
   "source": [
    "plt.figure(figsize=(12, 6))\n",
    "sns.countplot(data=Books, x='Day', hue='Order Status')\n",
    "plt.title('Chart of Order Status by Day')\n",
    "plt.xlabel('Day')\n",
    "plt.ylabel('Count')\n",
    "plt.xticks(rotation=45)\n",
    "plt.tight_layout()"
   ]
  },
  {
   "cell_type": "markdown",
   "id": "c7bfd441",
   "metadata": {
    "papermill": {
     "duration": 0.043169,
     "end_time": "2024-07-02T12:00:06.086341",
     "exception": false,
     "start_time": "2024-07-02T12:00:06.043172",
     "status": "completed"
    },
    "tags": []
   },
   "source": [
    "## correlation between city and order status"
   ]
  },
  {
   "cell_type": "code",
   "execution_count": 66,
   "id": "07ba660a",
   "metadata": {
    "execution": {
     "iopub.execute_input": "2024-07-02T12:00:06.182970Z",
     "iopub.status.busy": "2024-07-02T12:00:06.181897Z",
     "iopub.status.idle": "2024-07-02T12:00:06.198007Z",
     "shell.execute_reply": "2024-07-02T12:00:06.196126Z"
    },
    "papermill": {
     "duration": 0.066074,
     "end_time": "2024-07-02T12:00:06.201430",
     "exception": false,
     "start_time": "2024-07-02T12:00:06.135356",
     "status": "completed"
    },
    "tags": []
   },
   "outputs": [],
   "source": [
    "top_cities = Books['City'].value_counts().head(10).index.tolist()"
   ]
  },
  {
   "cell_type": "code",
   "execution_count": 67,
   "id": "1a79829b",
   "metadata": {
    "execution": {
     "iopub.execute_input": "2024-07-02T12:00:06.294853Z",
     "iopub.status.busy": "2024-07-02T12:00:06.294401Z",
     "iopub.status.idle": "2024-07-02T12:00:06.309365Z",
     "shell.execute_reply": "2024-07-02T12:00:06.308050Z"
    },
    "papermill": {
     "duration": 0.06359,
     "end_time": "2024-07-02T12:00:06.312593",
     "exception": false,
     "start_time": "2024-07-02T12:00:06.249003",
     "status": "completed"
    },
    "tags": []
   },
   "outputs": [],
   "source": [
    "tempdf=Books[Books['City'].isin(top_cities)]"
   ]
  },
  {
   "cell_type": "code",
   "execution_count": 68,
   "id": "5c7a9beb",
   "metadata": {
    "execution": {
     "iopub.execute_input": "2024-07-02T12:00:06.397546Z",
     "iopub.status.busy": "2024-07-02T12:00:06.395964Z",
     "iopub.status.idle": "2024-07-02T12:00:06.411899Z",
     "shell.execute_reply": "2024-07-02T12:00:06.410503Z"
    },
    "papermill": {
     "duration": 0.060981,
     "end_time": "2024-07-02T12:00:06.415061",
     "exception": false,
     "start_time": "2024-07-02T12:00:06.354080",
     "status": "completed"
    },
    "tags": []
   },
   "outputs": [],
   "source": [
    "tempdf=tempdf.groupby(['City', 'Order Status']).size().unstack()"
   ]
  },
  {
   "cell_type": "code",
   "execution_count": 69,
   "id": "f5331bb9",
   "metadata": {
    "execution": {
     "iopub.execute_input": "2024-07-02T12:00:06.499038Z",
     "iopub.status.busy": "2024-07-02T12:00:06.498633Z",
     "iopub.status.idle": "2024-07-02T12:00:07.086333Z",
     "shell.execute_reply": "2024-07-02T12:00:07.085035Z"
    },
    "papermill": {
     "duration": 0.63391,
     "end_time": "2024-07-02T12:00:07.089989",
     "exception": false,
     "start_time": "2024-07-02T12:00:06.456079",
     "status": "completed"
    },
    "tags": []
   },
   "outputs": [
    {
     "data": {
      "image/png": "[encoded data removed]",
      "text/plain": [
       "<Figure size 1200x800 with 1 Axes>"
      ]
     },
     "metadata": {},
     "output_type": "display_data"
    }
   ],
   "source": [
    "tempdf.plot(kind='bar', stacked=True, figsize=(12, 8))\n",
    "plt.title('Order Status Distribution by Top Cities')\n",
    "plt.xlabel('City')\n",
    "plt.ylabel('Count')\n",
    "plt.xticks(rotation=45)\n",
    "plt.legend(title='Order Status')\n",
    "plt.tight_layout()\n",
    "plt.show()"
   ]
  }
 ],
 "metadata": {
  "kaggle": {
   "accelerator": "none",
   "dataSources": [
    {
     "datasetId": 1111101,
     "sourceId": 1890525,
     "sourceType": "datasetVersion"
    }
   ],
   "dockerImageVersionId": 30732,
   "isGpuEnabled": false,
   "isInternetEnabled": true,
   "language": "python",
   "sourceType": "notebook"
  },
  "kernelspec": {
   "display_name": "Python 3",
   "language": "python",
   "name": "python3"
  },
  "language_info": {
   "codemirror_mode": {
    "name": "ipython",
    "version": 3
   },
   "file_extension": ".py",
   "mimetype": "text/x-python",
   "name": "python",
   "nbconvert_exporter": "python",
   "pygments_lexer": "ipython3",
   "version": "3.10.13"
  },
  "papermill": {
   "default_parameters": {},
   "duration": 24.902093,
   "end_time": "2024-07-02T12:00:07.858744",
   "environment_variables": {},
   "exception": null,
   "input_path": "__notebook__.ipynb",
   "output_path": "__notebook__.ipynb",
   "parameters": {},
   "start_time": "2024-07-02T11:59:42.956651",
   "version": "2.5.0"
  }
 },
 "nbformat": 4,
 "nbformat_minor": 5
}
